{
 "cells": [
  {
   "cell_type": "markdown",
   "metadata": {},
   "source": [
    "# Day 6 - Nextflow Basics: Introduction to channels and operators"
   ]
  },
  {
   "cell_type": "markdown",
   "metadata": {},
   "source": [
    "Today, we will begin exploring Nextflow, the programming language that powers the advanced nf-core pipelines you worked with last week. Your task is to dive into the core concepts and syntax of Nextflow, understanding how this language enables the development of scalable and reproducible workflows.\n",
    "\n",
    "Nextflow works quite differently from traditional programming languages like Python or Java that you may already be familiar with. To get started, it is essential to understand the foundational concepts that set Nextflow apart."
   ]
  },
  {
   "cell_type": "markdown",
   "metadata": {},
   "source": [
    "### 1. Describe the concept of Workflows, Processes and Channels we deal with in Nextflow"
   ]
  },
  {
   "cell_type": "markdown",
   "metadata": {},
   "source": [
    "Workflows: A workflow is a function that is specialized for composing processes and dataflow logic like channels and operators\n",
    "\n",
    "\n",
    "\n",
    "\n",
    "\n",
    "Processes: A process is a specialized function for executing scripts, they consist of name and body, and the latter is made up of multiple statements\n",
    "\n",
    "\n",
    "\n",
    "\n",
    "\n",
    "\n",
    "Channels: A channel is an asynchronous sequence of values that cannot be accessed directly yet only through an operator or process."
   ]
  },
  {
   "cell_type": "markdown",
   "metadata": {},
   "source": [
    "## Introduction to channels\n",
    "\n",
    "Please refer to the file  $\\texttt{channels\\_intro.nf}$ for the next exercises. Then run the code with the respective flag here below. "
   ]
  },
  {
   "cell_type": "code",
   "execution_count": 7,
   "metadata": {},
   "outputs": [
    {
     "name": "stdout",
     "output_type": "stream",
     "text": [
      "\n",
      "\u001b[1m\u001b[38;5;232m\u001b[48;5;43m N E X T F L O W \u001b[0;2m  ~  \u001b[mversion 25.04.7\u001b[m\n",
      "\u001b[K\n",
      "Launching\u001b[35m `channels_intro.nf` \u001b[0;2m[\u001b[0;1;36mmighty_ritchie\u001b[0;2m] DSL2 - \u001b[36mrevision: \u001b[0;36m368045256c\u001b[m\n",
      "\u001b[K\n",
      "1\n",
      "2\n",
      "3\n",
      "4\n",
      "5\n",
      "6\n",
      "7\n",
      "8\n",
      "9\n",
      "10\n"
     ]
    }
   ],
   "source": [
    "# Task 1 - Create a channel that enumerates the numbers from 1 to 10\n",
    "!nextflow run channels_intro.nf --step 1"
   ]
  },
  {
   "cell_type": "code",
   "execution_count": 9,
   "metadata": {},
   "outputs": [
    {
     "name": "stdout",
     "output_type": "stream",
     "text": [
      "\n",
      "\u001b[1m\u001b[38;5;232m\u001b[48;5;43m N E X T F L O W \u001b[0;2m  ~  \u001b[mversion 25.04.7\u001b[m\n",
      "\u001b[K\n",
      "Launching\u001b[35m `channels_intro.nf` \u001b[0;2m[\u001b[0;1;36mnauseous_saha\u001b[0;2m] DSL2 - \u001b[36mrevision: \u001b[0;36mfd72d479f1\u001b[m\n",
      "\u001b[K\n",
      "A\n",
      "B\n",
      "C\n",
      "D\n",
      "E\n",
      "F\n",
      "G\n",
      "H\n",
      "I\n",
      "J\n",
      "K\n",
      "L\n",
      "M\n",
      "N\n",
      "O\n",
      "P\n",
      "Q\n",
      "R\n",
      "S\n",
      "T\n",
      "U\n",
      "V\n",
      "W\n",
      "X\n",
      "Y\n",
      "Z\n"
     ]
    }
   ],
   "source": [
    "# Task 2 - Create a channel that gives out the entire alphabet\n",
    "!nextflow run channels_intro.nf --step 2"
   ]
  },
  {
   "cell_type": "code",
   "execution_count": 10,
   "metadata": {},
   "outputs": [
    {
     "name": "stdout",
     "output_type": "stream",
     "text": [
      "\n",
      "\u001b[1m\u001b[38;5;232m\u001b[48;5;43m N E X T F L O W \u001b[0;2m  ~  \u001b[mversion 25.04.7\u001b[m\n",
      "\u001b[K\n",
      "Launching\u001b[35m `channels_intro.nf` \u001b[0;2m[\u001b[0;1;36mnauseous_cray\u001b[0;2m] DSL2 - \u001b[36mrevision: \u001b[0;36mfd72d479f1\u001b[m\n",
      "\u001b[K\n",
      "/Users/fbarlow/Desktop/VSCODE-MAIN/CWBD/computational-workflows-2025/notebooks/day_04/files_dir/SRR5_2.fq\n",
      "/Users/fbarlow/Desktop/VSCODE-MAIN/CWBD/computational-workflows-2025/notebooks/day_04/files_dir/fastq5_2.fq\n",
      "/Users/fbarlow/Desktop/VSCODE-MAIN/CWBD/computational-workflows-2025/notebooks/day_04/files_dir/file_4.txt\n",
      "/Users/fbarlow/Desktop/VSCODE-MAIN/CWBD/computational-workflows-2025/notebooks/day_04/files_dir/file_5.txt\n",
      "/Users/fbarlow/Desktop/VSCODE-MAIN/CWBD/computational-workflows-2025/notebooks/day_04/files_dir/file_1.txt\n",
      "/Users/fbarlow/Desktop/VSCODE-MAIN/CWBD/computational-workflows-2025/notebooks/day_04/files_dir/file_2.txt\n",
      "/Users/fbarlow/Desktop/VSCODE-MAIN/CWBD/computational-workflows-2025/notebooks/day_04/files_dir/fastq.fq\n",
      "/Users/fbarlow/Desktop/VSCODE-MAIN/CWBD/computational-workflows-2025/notebooks/day_04/files_dir/fastq4_2.fq\n",
      "/Users/fbarlow/Desktop/VSCODE-MAIN/CWBD/computational-workflows-2025/notebooks/day_04/files_dir/SRR4_2.fq\n",
      "/Users/fbarlow/Desktop/VSCODE-MAIN/CWBD/computational-workflows-2025/notebooks/day_04/files_dir/file_3.txt\n",
      "/Users/fbarlow/Desktop/VSCODE-MAIN/CWBD/computational-workflows-2025/notebooks/day_04/files_dir/SRR.fq\n",
      "/Users/fbarlow/Desktop/VSCODE-MAIN/CWBD/computational-workflows-2025/notebooks/day_04/files_dir/SRR3_2.fq\n",
      "/Users/fbarlow/Desktop/VSCODE-MAIN/CWBD/computational-workflows-2025/notebooks/day_04/files_dir/fastq3_2.fq\n",
      "/Users/fbarlow/Desktop/VSCODE-MAIN/CWBD/computational-workflows-2025/notebooks/day_04/files_dir/fastq_1.fq\n",
      "/Users/fbarlow/Desktop/VSCODE-MAIN/CWBD/computational-workflows-2025/notebooks/day_04/files_dir/fastq2_2.fq\n",
      "/Users/fbarlow/Desktop/VSCODE-MAIN/CWBD/computational-workflows-2025/notebooks/day_04/files_dir/SRR2_2.fq\n",
      "/Users/fbarlow/Desktop/VSCODE-MAIN/CWBD/computational-workflows-2025/notebooks/day_04/files_dir/fastq1_1.fq\n",
      "/Users/fbarlow/Desktop/VSCODE-MAIN/CWBD/computational-workflows-2025/notebooks/day_04/files_dir/SRR1_1.fq\n",
      "/Users/fbarlow/Desktop/VSCODE-MAIN/CWBD/computational-workflows-2025/notebooks/day_04/files_dir/fastq_2.fq\n",
      "/Users/fbarlow/Desktop/VSCODE-MAIN/CWBD/computational-workflows-2025/notebooks/day_04/files_dir/fastq2_1.fq\n",
      "/Users/fbarlow/Desktop/VSCODE-MAIN/CWBD/computational-workflows-2025/notebooks/day_04/files_dir/SRR2_1.fq\n",
      "/Users/fbarlow/Desktop/VSCODE-MAIN/CWBD/computational-workflows-2025/notebooks/day_04/files_dir/fastq1_2.fq\n",
      "/Users/fbarlow/Desktop/VSCODE-MAIN/CWBD/computational-workflows-2025/notebooks/day_04/files_dir/SRR1_2.fq\n",
      "/Users/fbarlow/Desktop/VSCODE-MAIN/CWBD/computational-workflows-2025/notebooks/day_04/files_dir/SRR3_1.fq\n",
      "/Users/fbarlow/Desktop/VSCODE-MAIN/CWBD/computational-workflows-2025/notebooks/day_04/files_dir/fastq3_1.fq\n",
      "/Users/fbarlow/Desktop/VSCODE-MAIN/CWBD/computational-workflows-2025/notebooks/day_04/files_dir/fastq4_1.fq\n",
      "/Users/fbarlow/Desktop/VSCODE-MAIN/CWBD/computational-workflows-2025/notebooks/day_04/files_dir/SRR4_1.fq\n",
      "/Users/fbarlow/Desktop/VSCODE-MAIN/CWBD/computational-workflows-2025/notebooks/day_04/files_dir/SRR5_1.fq\n",
      "/Users/fbarlow/Desktop/VSCODE-MAIN/CWBD/computational-workflows-2025/notebooks/day_04/files_dir/fastq5_1.fq\n"
     ]
    }
   ],
   "source": [
    "# Task 3 - Create a channel that includes all files in the \"files_dir\" directory\n",
    "!nextflow run channels_intro.nf --step 3"
   ]
  },
  {
   "cell_type": "code",
   "execution_count": 11,
   "metadata": {},
   "outputs": [
    {
     "name": "stdout",
     "output_type": "stream",
     "text": [
      "\n",
      "\u001b[1m\u001b[38;5;232m\u001b[48;5;43m N E X T F L O W \u001b[0;2m  ~  \u001b[mversion 25.04.7\u001b[m\n",
      "\u001b[K\n",
      "Launching\u001b[35m `channels_intro.nf` \u001b[0;2m[\u001b[0;1;36msharp_wing\u001b[0;2m] DSL2 - \u001b[36mrevision: \u001b[0;36md5af6bc0d6\u001b[m\n",
      "\u001b[K\n",
      "/Users/fbarlow/Desktop/VSCODE-MAIN/CWBD/computational-workflows-2025/notebooks/day_04/files_dir/file_4.txt\n",
      "/Users/fbarlow/Desktop/VSCODE-MAIN/CWBD/computational-workflows-2025/notebooks/day_04/files_dir/file_5.txt\n",
      "/Users/fbarlow/Desktop/VSCODE-MAIN/CWBD/computational-workflows-2025/notebooks/day_04/files_dir/file_1.txt\n",
      "/Users/fbarlow/Desktop/VSCODE-MAIN/CWBD/computational-workflows-2025/notebooks/day_04/files_dir/file_2.txt\n",
      "/Users/fbarlow/Desktop/VSCODE-MAIN/CWBD/computational-workflows-2025/notebooks/day_04/files_dir/file_3.txt\n"
     ]
    }
   ],
   "source": [
    "# Task 4 - Create a channel that includes all TXT files in the \"files_dir\" directory\n",
    "!nextflow run channels_intro.nf --step 4"
   ]
  },
  {
   "cell_type": "code",
   "execution_count": 12,
   "metadata": {},
   "outputs": [
    {
     "name": "stdout",
     "output_type": "stream",
     "text": [
      "\n",
      "\u001b[1m\u001b[38;5;232m\u001b[48;5;43m N E X T F L O W \u001b[0;2m  ~  \u001b[mversion 25.04.7\u001b[m\n",
      "\u001b[K\n",
      "Launching\u001b[35m `channels_intro.nf` \u001b[0;2m[\u001b[0;1;36mirreverent_agnesi\u001b[0;2m] DSL2 - \u001b[36mrevision: \u001b[0;36m1925374308\u001b[m\n",
      "\u001b[K\n",
      "/Users/fbarlow/Desktop/VSCODE-MAIN/CWBD/computational-workflows-2025/notebooks/day_04/files_dir/fastq_1.fq\n",
      "/Users/fbarlow/Desktop/VSCODE-MAIN/CWBD/computational-workflows-2025/notebooks/day_04/files_dir/fastq_2.fq\n"
     ]
    }
   ],
   "source": [
    "# Task 5 - Create a channel that includes the files \"fastq_1.fq\" and \"fastq_2.fq\" in the \"files_dir\" directory\n",
    "!nextflow run channels_intro.nf --step 5"
   ]
  },
  {
   "cell_type": "code",
   "execution_count": 19,
   "metadata": {},
   "outputs": [
    {
     "name": "stdout",
     "output_type": "stream",
     "text": [
      "\n",
      "\u001b[1m\u001b[38;5;232m\u001b[48;5;43m N E X T F L O W \u001b[0;2m  ~  \u001b[mversion 25.04.7\u001b[m\n",
      "\u001b[K\n",
      "Launching\u001b[35m `channels_intro.nf` \u001b[0;2m[\u001b[0;1;36mcranky_snyder\u001b[0;2m] DSL2 - \u001b[36mrevision: \u001b[0;36mb997d26f08\u001b[m\n",
      "\u001b[K\n",
      "/Users/fbarlow/Desktop/VSCODE-MAIN/CWBD/computational-workflows-2025/notebooks/day_04/files_dir/SRR5_2.fq\n",
      "/Users/fbarlow/Desktop/VSCODE-MAIN/CWBD/computational-workflows-2025/notebooks/day_04/files_dir/fastq5_2.fq\n",
      "/Users/fbarlow/Desktop/VSCODE-MAIN/CWBD/computational-workflows-2025/notebooks/day_04/files_dir/file_4.txt\n",
      "/Users/fbarlow/Desktop/VSCODE-MAIN/CWBD/computational-workflows-2025/notebooks/day_04/files_dir/file_5.txt\n",
      "/Users/fbarlow/Desktop/VSCODE-MAIN/CWBD/computational-workflows-2025/notebooks/day_04/files_dir/file_1.txt\n",
      "/Users/fbarlow/Desktop/VSCODE-MAIN/CWBD/computational-workflows-2025/notebooks/day_04/files_dir/file_2.txt\n",
      "/Users/fbarlow/Desktop/VSCODE-MAIN/CWBD/computational-workflows-2025/notebooks/day_04/files_dir/fastq.fq\n",
      "/Users/fbarlow/Desktop/VSCODE-MAIN/CWBD/computational-workflows-2025/notebooks/day_04/files_dir/fastq4_2.fq\n",
      "/Users/fbarlow/Desktop/VSCODE-MAIN/CWBD/computational-workflows-2025/notebooks/day_04/files_dir/SRR4_2.fq\n",
      "/Users/fbarlow/Desktop/VSCODE-MAIN/CWBD/computational-workflows-2025/notebooks/day_04/files_dir/file_3.txt\n",
      "/Users/fbarlow/Desktop/VSCODE-MAIN/CWBD/computational-workflows-2025/notebooks/day_04/files_dir/SRR.fq\n",
      "/Users/fbarlow/Desktop/VSCODE-MAIN/CWBD/computational-workflows-2025/notebooks/day_04/files_dir/SRR3_2.fq\n",
      "/Users/fbarlow/Desktop/VSCODE-MAIN/CWBD/computational-workflows-2025/notebooks/day_04/files_dir/fastq3_2.fq\n",
      "/Users/fbarlow/Desktop/VSCODE-MAIN/CWBD/computational-workflows-2025/notebooks/day_04/files_dir/fastq_1.fq\n",
      "/Users/fbarlow/Desktop/VSCODE-MAIN/CWBD/computational-workflows-2025/notebooks/day_04/files_dir/fastq2_2.fq\n",
      "/Users/fbarlow/Desktop/VSCODE-MAIN/CWBD/computational-workflows-2025/notebooks/day_04/files_dir/SRR2_2.fq\n",
      "/Users/fbarlow/Desktop/VSCODE-MAIN/CWBD/computational-workflows-2025/notebooks/day_04/files_dir/fastq1_1.fq\n",
      "/Users/fbarlow/Desktop/VSCODE-MAIN/CWBD/computational-workflows-2025/notebooks/day_04/files_dir/SRR1_1.fq\n",
      "/Users/fbarlow/Desktop/VSCODE-MAIN/CWBD/computational-workflows-2025/notebooks/day_04/files_dir/fastq_2.fq\n",
      "/Users/fbarlow/Desktop/VSCODE-MAIN/CWBD/computational-workflows-2025/notebooks/day_04/files_dir/fastq2_1.fq\n",
      "/Users/fbarlow/Desktop/VSCODE-MAIN/CWBD/computational-workflows-2025/notebooks/day_04/files_dir/SRR2_1.fq\n",
      "/Users/fbarlow/Desktop/VSCODE-MAIN/CWBD/computational-workflows-2025/notebooks/day_04/files_dir/fastq1_2.fq\n",
      "/Users/fbarlow/Desktop/VSCODE-MAIN/CWBD/computational-workflows-2025/notebooks/day_04/files_dir/SRR1_2.fq\n",
      "/Users/fbarlow/Desktop/VSCODE-MAIN/CWBD/computational-workflows-2025/notebooks/day_04/files_dir/SRR3_1.fq\n",
      "/Users/fbarlow/Desktop/VSCODE-MAIN/CWBD/computational-workflows-2025/notebooks/day_04/files_dir/fastq3_1.fq\n",
      "/Users/fbarlow/Desktop/VSCODE-MAIN/CWBD/computational-workflows-2025/notebooks/day_04/files_dir/fastq4_1.fq\n",
      "/Users/fbarlow/Desktop/VSCODE-MAIN/CWBD/computational-workflows-2025/notebooks/day_04/files_dir/SRR4_1.fq\n",
      "/Users/fbarlow/Desktop/VSCODE-MAIN/CWBD/computational-workflows-2025/notebooks/day_04/files_dir/SRR5_1.fq\n",
      "/Users/fbarlow/Desktop/VSCODE-MAIN/CWBD/computational-workflows-2025/notebooks/day_04/files_dir/fastq5_1.fq\n",
      "/Users/fbarlow/Desktop/VSCODE-MAIN/CWBD/computational-workflows-2025/notebooks/day_04/files_dir/.hidden_2.txt\n",
      "/Users/fbarlow/Desktop/VSCODE-MAIN/CWBD/computational-workflows-2025/notebooks/day_04/files_dir/.hidden_1.txt\n"
     ]
    }
   ],
   "source": [
    "# Task 6 - go back to the time when you included all files. Are you sure that really ALL files are included? If not, how can you include them?\n",
    "!nextflow run channels_intro.nf --step 6"
   ]
  },
  {
   "cell_type": "code",
   "execution_count": 21,
   "metadata": {},
   "outputs": [
    {
     "name": "stdout",
     "output_type": "stream",
     "text": [
      "\n",
      "\u001b[1m\u001b[38;5;232m\u001b[48;5;43m N E X T F L O W \u001b[0;2m  ~  \u001b[mversion 25.04.7\u001b[m\n",
      "\u001b[K\n",
      "Launching\u001b[35m `channels_intro.nf` \u001b[0;2m[\u001b[0;1;36mnice_dijkstra\u001b[0;2m] DSL2 - \u001b[36mrevision: \u001b[0;36m7ad5f8977f\u001b[m\n",
      "\u001b[K\n",
      "[fastq, [/Users/fbarlow/Desktop/VSCODE-MAIN/CWBD/computational-workflows-2025/notebooks/day_04/files_dir/fastq_1.fq, /Users/fbarlow/Desktop/VSCODE-MAIN/CWBD/computational-workflows-2025/notebooks/day_04/files_dir/fastq_2.fq]]\n",
      "[fastq2, [/Users/fbarlow/Desktop/VSCODE-MAIN/CWBD/computational-workflows-2025/notebooks/day_04/files_dir/fastq2_1.fq, /Users/fbarlow/Desktop/VSCODE-MAIN/CWBD/computational-workflows-2025/notebooks/day_04/files_dir/fastq2_2.fq]]\n",
      "[SRR2, [/Users/fbarlow/Desktop/VSCODE-MAIN/CWBD/computational-workflows-2025/notebooks/day_04/files_dir/SRR2_1.fq, /Users/fbarlow/Desktop/VSCODE-MAIN/CWBD/computational-workflows-2025/notebooks/day_04/files_dir/SRR2_2.fq]]\n",
      "[fastq1, [/Users/fbarlow/Desktop/VSCODE-MAIN/CWBD/computational-workflows-2025/notebooks/day_04/files_dir/fastq1_1.fq, /Users/fbarlow/Desktop/VSCODE-MAIN/CWBD/computational-workflows-2025/notebooks/day_04/files_dir/fastq1_2.fq]]\n",
      "[SRR1, [/Users/fbarlow/Desktop/VSCODE-MAIN/CWBD/computational-workflows-2025/notebooks/day_04/files_dir/SRR1_1.fq, /Users/fbarlow/Desktop/VSCODE-MAIN/CWBD/computational-workflows-2025/notebooks/day_04/files_dir/SRR1_2.fq]]\n",
      "[SRR3, [/Users/fbarlow/Desktop/VSCODE-MAIN/CWBD/computational-workflows-2025/notebooks/day_04/files_dir/SRR3_1.fq, /Users/fbarlow/Desktop/VSCODE-MAIN/CWBD/computational-workflows-2025/notebooks/day_04/files_dir/SRR3_2.fq]]\n",
      "[fastq3, [/Users/fbarlow/Desktop/VSCODE-MAIN/CWBD/computational-workflows-2025/notebooks/day_04/files_dir/fastq3_1.fq, /Users/fbarlow/Desktop/VSCODE-MAIN/CWBD/computational-workflows-2025/notebooks/day_04/files_dir/fastq3_2.fq]]\n",
      "[fastq4, [/Users/fbarlow/Desktop/VSCODE-MAIN/CWBD/computational-workflows-2025/notebooks/day_04/files_dir/fastq4_1.fq, /Users/fbarlow/Desktop/VSCODE-MAIN/CWBD/computational-workflows-2025/notebooks/day_04/files_dir/fastq4_2.fq]]\n",
      "[SRR4, [/Users/fbarlow/Desktop/VSCODE-MAIN/CWBD/computational-workflows-2025/notebooks/day_04/files_dir/SRR4_1.fq, /Users/fbarlow/Desktop/VSCODE-MAIN/CWBD/computational-workflows-2025/notebooks/day_04/files_dir/SRR4_2.fq]]\n",
      "[SRR5, [/Users/fbarlow/Desktop/VSCODE-MAIN/CWBD/computational-workflows-2025/notebooks/day_04/files_dir/SRR5_1.fq, /Users/fbarlow/Desktop/VSCODE-MAIN/CWBD/computational-workflows-2025/notebooks/day_04/files_dir/SRR5_2.fq]]\n",
      "[fastq5, [/Users/fbarlow/Desktop/VSCODE-MAIN/CWBD/computational-workflows-2025/notebooks/day_04/files_dir/fastq5_1.fq, /Users/fbarlow/Desktop/VSCODE-MAIN/CWBD/computational-workflows-2025/notebooks/day_04/files_dir/fastq5_2.fq]]\n"
     ]
    }
   ],
   "source": [
    "# Task 7 - get all filepairs in the \"files_dir\" directory\n",
    "!nextflow run channels_intro.nf --step 7"
   ]
  },
  {
   "cell_type": "markdown",
   "metadata": {},
   "source": [
    "## Now that you have a solid understanding of the basic concepts of channels in Nextflow, it’s time to experiment and see how they work in practice."
   ]
  },
  {
   "cell_type": "markdown",
   "metadata": {},
   "source": [
    "To do so, Nextflow has the concept of Operators to give and pass information inbetween channels.\n",
    "\n",
    "Please answer the questions in $\\texttt{basic\\_channel\\_operations.nf}$ and run the code here. "
   ]
  },
  {
   "cell_type": "code",
   "execution_count": 23,
   "metadata": {},
   "outputs": [
    {
     "name": "stdout",
     "output_type": "stream",
     "text": [
      "\n",
      "\u001b[1m\u001b[38;5;232m\u001b[48;5;43m N E X T F L O W \u001b[0;2m  ~  \u001b[mversion 25.04.7\u001b[m\n",
      "\u001b[K\n",
      "Launching\u001b[35m `basic_channel_operations.nf` \u001b[0;2m[\u001b[0;1;36mawesome_hawking\u001b[0;2m] DSL2 - \u001b[36mrevision: \u001b[0;36mf1ff94ce4b\u001b[m\n",
      "\u001b[K\n",
      "1\n"
     ]
    }
   ],
   "source": [
    "# Task 1 - Extract the first item from the channel\n",
    "!nextflow run basic_channel_operations.nf --step 1"
   ]
  },
  {
   "cell_type": "code",
   "execution_count": 24,
   "metadata": {},
   "outputs": [
    {
     "name": "stdout",
     "output_type": "stream",
     "text": [
      "\n",
      "\u001b[1m\u001b[38;5;232m\u001b[48;5;43m N E X T F L O W \u001b[0;2m  ~  \u001b[mversion 25.04.7\u001b[m\n",
      "\u001b[K\n",
      "Launching\u001b[35m `basic_channel_operations.nf` \u001b[0;2m[\u001b[0;1;36mcompassionate_magritte\u001b[0;2m] DSL2 - \u001b[36mrevision: \u001b[0;36mc0064d2552\u001b[m\n",
      "\u001b[K\n",
      "3\n"
     ]
    }
   ],
   "source": [
    "# Task 2 - Extract the last item from the channel\n",
    "!nextflow run basic_channel_operations.nf --step 2"
   ]
  },
  {
   "cell_type": "code",
   "execution_count": 27,
   "metadata": {},
   "outputs": [
    {
     "name": "stdout",
     "output_type": "stream",
     "text": [
      "\n",
      "\u001b[1m\u001b[38;5;232m\u001b[48;5;43m N E X T F L O W \u001b[0;2m  ~  \u001b[mversion 25.04.7\u001b[m\n",
      "\u001b[K\n",
      "Launching\u001b[35m `basic_channel_operations.nf` \u001b[0;2m[\u001b[0;1;36mgoofy_keller\u001b[0;2m] DSL2 - \u001b[36mrevision: \u001b[0;36mdf9f5f7cb9\u001b[m\n",
      "\u001b[K\n",
      "1\n",
      "2\n"
     ]
    }
   ],
   "source": [
    "# Task 3 - Use an operator to extract the first two items from the channel\n",
    "!nextflow run basic_channel_operations.nf --step 3"
   ]
  },
  {
   "cell_type": "code",
   "execution_count": 30,
   "metadata": {},
   "outputs": [
    {
     "name": "stdout",
     "output_type": "stream",
     "text": [
      "\n",
      "\u001b[1m\u001b[38;5;232m\u001b[48;5;43m N E X T F L O W \u001b[0;2m  ~  \u001b[mversion 25.04.7\u001b[m\n",
      "\u001b[K\n",
      "Launching\u001b[35m `basic_channel_operations.nf` \u001b[0;2m[\u001b[0;1;36mdistracted_davinci\u001b[0;2m] DSL2 - \u001b[36mrevision: \u001b[0;36m432a12d599\u001b[m\n",
      "\u001b[K\n",
      "4\n",
      "9\n",
      "16\n"
     ]
    }
   ],
   "source": [
    "# Task 4 - Return the squared values of the channel\n",
    "!nextflow run basic_channel_operations.nf --step 4"
   ]
  },
  {
   "cell_type": "code",
   "execution_count": 29,
   "metadata": {},
   "outputs": [
    {
     "name": "stdout",
     "output_type": "stream",
     "text": [
      "\n",
      "\u001b[1m\u001b[38;5;232m\u001b[48;5;43m N E X T F L O W \u001b[0;2m  ~  \u001b[mversion 25.04.7\u001b[m\n",
      "\u001b[K\n",
      "Launching\u001b[35m `basic_channel_operations.nf` \u001b[0;2m[\u001b[0;1;36mcheesy_saha\u001b[0;2m] DSL2 - \u001b[36mrevision: \u001b[0;36mb17ed45557\u001b[m\n",
      "\u001b[K\n",
      "4\n",
      "9\n"
     ]
    }
   ],
   "source": [
    "# Task 5 - Remember the previous task where you squared the values of the channel. Now, extract the first two items from the squared channel\n",
    "!nextflow run basic_channel_operations.nf --step 5"
   ]
  },
  {
   "cell_type": "code",
   "execution_count": 33,
   "metadata": {},
   "outputs": [
    {
     "name": "stdout",
     "output_type": "stream",
     "text": [
      "\n",
      "\u001b[1m\u001b[38;5;232m\u001b[48;5;43m N E X T F L O W \u001b[0;2m  ~  \u001b[mversion 25.04.7\u001b[m\n",
      "\u001b[K\n",
      "Launching\u001b[35m `basic_channel_operations.nf` \u001b[0;2m[\u001b[0;1;36mextravagant_einstein\u001b[0;2m] DSL2 - \u001b[36mrevision: \u001b[0;36m826345303c\u001b[m\n",
      "\u001b[K\n",
      "rolyaT\n",
      "tfiwS\n"
     ]
    }
   ],
   "source": [
    "# Task 6 - Remember when you used bash to reverse the output? Try to use map and Groovy to reverse the output\n",
    "!nextflow run basic_channel_operations.nf --step 6"
   ]
  },
  {
   "cell_type": "code",
   "execution_count": 34,
   "metadata": {},
   "outputs": [
    {
     "name": "stdout",
     "output_type": "stream",
     "text": [
      "\n",
      "\u001b[1m\u001b[38;5;232m\u001b[48;5;43m N E X T F L O W \u001b[0;2m  ~  \u001b[mversion 25.04.7\u001b[m\n",
      "\u001b[K\n",
      "Launching\u001b[35m `basic_channel_operations.nf` \u001b[0;2m[\u001b[0;1;36mreverent_noether\u001b[0;2m] DSL2 - \u001b[36mrevision: \u001b[0;36m9a9c4969b6\u001b[m\n",
      "\u001b[K\n",
      "[SRR5_2.fq, /Users/fbarlow/Desktop/VSCODE-MAIN/CWBD/computational-workflows-2025/notebooks/day_04/files_dir/SRR5_2.fq]\n",
      "[fastq5_2.fq, /Users/fbarlow/Desktop/VSCODE-MAIN/CWBD/computational-workflows-2025/notebooks/day_04/files_dir/fastq5_2.fq]\n",
      "[fastq.fq, /Users/fbarlow/Desktop/VSCODE-MAIN/CWBD/computational-workflows-2025/notebooks/day_04/files_dir/fastq.fq]\n",
      "[fastq4_2.fq, /Users/fbarlow/Desktop/VSCODE-MAIN/CWBD/computational-workflows-2025/notebooks/day_04/files_dir/fastq4_2.fq]\n",
      "[SRR4_2.fq, /Users/fbarlow/Desktop/VSCODE-MAIN/CWBD/computational-workflows-2025/notebooks/day_04/files_dir/SRR4_2.fq]\n",
      "[SRR.fq, /Users/fbarlow/Desktop/VSCODE-MAIN/CWBD/computational-workflows-2025/notebooks/day_04/files_dir/SRR.fq]\n",
      "[SRR3_2.fq, /Users/fbarlow/Desktop/VSCODE-MAIN/CWBD/computational-workflows-2025/notebooks/day_04/files_dir/SRR3_2.fq]\n",
      "[fastq3_2.fq, /Users/fbarlow/Desktop/VSCODE-MAIN/CWBD/computational-workflows-2025/notebooks/day_04/files_dir/fastq3_2.fq]\n",
      "[fastq_1.fq, /Users/fbarlow/Desktop/VSCODE-MAIN/CWBD/computational-workflows-2025/notebooks/day_04/files_dir/fastq_1.fq]\n",
      "[fastq2_2.fq, /Users/fbarlow/Desktop/VSCODE-MAIN/CWBD/computational-workflows-2025/notebooks/day_04/files_dir/fastq2_2.fq]\n",
      "[SRR2_2.fq, /Users/fbarlow/Desktop/VSCODE-MAIN/CWBD/computational-workflows-2025/notebooks/day_04/files_dir/SRR2_2.fq]\n",
      "[fastq1_1.fq, /Users/fbarlow/Desktop/VSCODE-MAIN/CWBD/computational-workflows-2025/notebooks/day_04/files_dir/fastq1_1.fq]\n",
      "[SRR1_1.fq, /Users/fbarlow/Desktop/VSCODE-MAIN/CWBD/computational-workflows-2025/notebooks/day_04/files_dir/SRR1_1.fq]\n",
      "[fastq_2.fq, /Users/fbarlow/Desktop/VSCODE-MAIN/CWBD/computational-workflows-2025/notebooks/day_04/files_dir/fastq_2.fq]\n",
      "[fastq2_1.fq, /Users/fbarlow/Desktop/VSCODE-MAIN/CWBD/computational-workflows-2025/notebooks/day_04/files_dir/fastq2_1.fq]\n",
      "[SRR2_1.fq, /Users/fbarlow/Desktop/VSCODE-MAIN/CWBD/computational-workflows-2025/notebooks/day_04/files_dir/SRR2_1.fq]\n",
      "[fastq1_2.fq, /Users/fbarlow/Desktop/VSCODE-MAIN/CWBD/computational-workflows-2025/notebooks/day_04/files_dir/fastq1_2.fq]\n",
      "[SRR1_2.fq, /Users/fbarlow/Desktop/VSCODE-MAIN/CWBD/computational-workflows-2025/notebooks/day_04/files_dir/SRR1_2.fq]\n",
      "[SRR3_1.fq, /Users/fbarlow/Desktop/VSCODE-MAIN/CWBD/computational-workflows-2025/notebooks/day_04/files_dir/SRR3_1.fq]\n",
      "[fastq3_1.fq, /Users/fbarlow/Desktop/VSCODE-MAIN/CWBD/computational-workflows-2025/notebooks/day_04/files_dir/fastq3_1.fq]\n",
      "[fastq4_1.fq, /Users/fbarlow/Desktop/VSCODE-MAIN/CWBD/computational-workflows-2025/notebooks/day_04/files_dir/fastq4_1.fq]\n",
      "[SRR4_1.fq, /Users/fbarlow/Desktop/VSCODE-MAIN/CWBD/computational-workflows-2025/notebooks/day_04/files_dir/SRR4_1.fq]\n",
      "[SRR5_1.fq, /Users/fbarlow/Desktop/VSCODE-MAIN/CWBD/computational-workflows-2025/notebooks/day_04/files_dir/SRR5_1.fq]\n",
      "[fastq5_1.fq, /Users/fbarlow/Desktop/VSCODE-MAIN/CWBD/computational-workflows-2025/notebooks/day_04/files_dir/fastq5_1.fq]\n"
     ]
    }
   ],
   "source": [
    "# Task 7 - Use fromPath to include all fastq files in the \"files_dir\" directory, then use map to return a pair containing the file name and the file path (Hint: include groovy code)\n",
    "!nextflow run basic_channel_operations.nf --step 7"
   ]
  },
  {
   "cell_type": "code",
   "execution_count": 36,
   "metadata": {},
   "outputs": [
    {
     "name": "stdout",
     "output_type": "stream",
     "text": [
      "\n",
      "\u001b[1m\u001b[38;5;232m\u001b[48;5;43m N E X T F L O W \u001b[0;2m  ~  \u001b[mversion 25.04.7\u001b[m\n",
      "\u001b[K\n",
      "Launching\u001b[35m `basic_channel_operations.nf` \u001b[0;2m[\u001b[0;1;36mcheesy_pauling\u001b[0;2m] DSL2 - \u001b[36mrevision: \u001b[0;36m4197f833dc\u001b[m\n",
      "\u001b[K\n",
      "[1, 4]\n",
      "[2, 4]\n",
      "[1, 5]\n",
      "[2, 5]\n",
      "[3, 4]\n",
      "[3, 5]\n",
      "[1, 6]\n",
      "[2, 6]\n",
      "[3, 6]\n"
     ]
    }
   ],
   "source": [
    "# Task 8 - Combine the items from the two channels into a single channel\n",
    "!nextflow run basic_channel_operations.nf --step 8"
   ]
  },
  {
   "cell_type": "code",
   "execution_count": 37,
   "metadata": {},
   "outputs": [
    {
     "name": "stdout",
     "output_type": "stream",
     "text": [
      "\n",
      "\u001b[1m\u001b[38;5;232m\u001b[48;5;43m N E X T F L O W \u001b[0;2m  ~  \u001b[mversion 25.04.7\u001b[m\n",
      "\u001b[K\n",
      "Launching\u001b[35m `basic_channel_operations.nf` \u001b[0;2m[\u001b[0;1;36mangry_fermi\u001b[0;2m] DSL2 - \u001b[36mrevision: \u001b[0;36mdb76c60e76\u001b[m\n",
      "\u001b[K\n",
      "1\n",
      "2\n",
      "3\n",
      "4\n",
      "5\n",
      "6\n"
     ]
    }
   ],
   "source": [
    "# Task 9 - Flatten the list in the channel\n",
    "!nextflow run basic_channel_operations.nf --step 9"
   ]
  },
  {
   "cell_type": "code",
   "execution_count": 38,
   "metadata": {},
   "outputs": [
    {
     "name": "stdout",
     "output_type": "stream",
     "text": [
      "\n",
      "\u001b[1m\u001b[38;5;232m\u001b[48;5;43m N E X T F L O W \u001b[0;2m  ~  \u001b[mversion 25.04.7\u001b[m\n",
      "\u001b[K\n",
      "Launching\u001b[35m `basic_channel_operations.nf` \u001b[0;2m[\u001b[0;1;36mloving_joliot\u001b[0;2m] DSL2 - \u001b[36mrevision: \u001b[0;36meb3df2365b\u001b[m\n",
      "\u001b[K\n",
      "[1, 2, 3]\n"
     ]
    }
   ],
   "source": [
    "# Task 10 - Collect the items of a channel into a list. What kind of channel is the output channel?\n",
    "!nextflow run basic_channel_operations.nf --step 10"
   ]
  },
  {
   "cell_type": "markdown",
   "metadata": {},
   "source": [
    "What kind of channel is the output channel?"
   ]
  },
  {
   "cell_type": "code",
   "execution_count": 39,
   "metadata": {},
   "outputs": [
    {
     "name": "stdout",
     "output_type": "stream",
     "text": [
      "\n",
      "\u001b[1m\u001b[38;5;232m\u001b[48;5;43m N E X T F L O W \u001b[0;2m  ~  \u001b[mversion 25.04.7\u001b[m\n",
      "\u001b[K\n",
      "Launching\u001b[35m `basic_channel_operations.nf` \u001b[0;2m[\u001b[0;1;36mfriendly_bernard\u001b[0;2m] DSL2 - \u001b[36mrevision: \u001b[0;36m644cc0a43b\u001b[m\n",
      "\u001b[K\n",
      "[1, [V, f, B]]\n",
      "[3, [M, G, 33]]\n",
      "[2, [O, L, E]]\n"
     ]
    }
   ],
   "source": [
    "# Task 11 -  From the input channel, create lists where each first item in the list of lists is the first item in the output channel, followed by a list of all the items its paired with\n",
    "!nextflow run basic_channel_operations.nf --step 11"
   ]
  },
  {
   "cell_type": "code",
   "execution_count": 40,
   "metadata": {},
   "outputs": [
    {
     "name": "stdout",
     "output_type": "stream",
     "text": [
      "\n",
      "\u001b[1m\u001b[38;5;232m\u001b[48;5;43m N E X T F L O W \u001b[0;2m  ~  \u001b[mversion 25.04.7\u001b[m\n",
      "\u001b[K\n",
      "Launching\u001b[35m `basic_channel_operations.nf` \u001b[0;2m[\u001b[0;1;36mgoofy_minsky\u001b[0;2m] DSL2 - \u001b[36mrevision: \u001b[0;36mfcf3a07baa\u001b[m\n",
      "\u001b[K\n",
      "[1, V, 1, f]\n",
      "[3, M, 3, G]\n",
      "[2, O, 2, L]\n",
      "[1, B, 2, E]\n"
     ]
    }
   ],
   "source": [
    "# Task 12 - Create a channel that joins the input to the output channel. What do you notice?\n",
    "!nextflow run basic_channel_operations.nf --step 12"
   ]
  },
  {
   "cell_type": "markdown",
   "metadata": {},
   "source": [
    "Task 12 - What do you notice compared to Task 11?"
   ]
  },
  {
   "cell_type": "code",
   "execution_count": 54,
   "metadata": {},
   "outputs": [
    {
     "name": "stdout",
     "output_type": "stream",
     "text": [
      "\n",
      "\u001b[1m\u001b[38;5;232m\u001b[48;5;43m N E X T F L O W \u001b[0;2m  ~  \u001b[mversion 25.04.7\u001b[m\n",
      "\u001b[K\n",
      "Launching\u001b[35m `basic_channel_operations.nf` \u001b[0;2m[\u001b[0;1;36msick_euler\u001b[0;2m] DSL2 - \u001b[36mrevision: \u001b[0;36mdda233d55b\u001b[m\n",
      "\u001b[K\n",
      "Even numbers: [2, 4, 6, 8, 10]\n",
      "Odd numbers: [1, 3, 5, 7, 9]\n"
     ]
    }
   ],
   "source": [
    "# Task 13 - Split the input channel into two channels, one of all the even numbers and the other of all the odd numbers.\n",
    "#           Write them to stdout including information about which is which\n",
    "!nextflow run basic_channel_operations.nf --step 13 -dump-channels"
   ]
  },
  {
   "cell_type": "code",
   "execution_count": 64,
   "metadata": {},
   "outputs": [
    {
     "name": "stdout",
     "output_type": "stream",
     "text": [
      "\n",
      "\u001b[1m\u001b[38;5;232m\u001b[48;5;43m N E X T F L O W \u001b[0;2m  ~  \u001b[mversion 25.04.7\u001b[m\n",
      "\u001b[K\n",
      "Launching\u001b[35m `basic_channel_operations.nf` \u001b[0;2m[\u001b[0;1;36mloquacious_bohr\u001b[0;2m] DSL2 - \u001b[36mrevision: \u001b[0;36m8d1ef792cb\u001b[m\n",
      "\u001b[K\n",
      "Snape\n",
      "Albus\n",
      "Ron\n",
      "Hagrid\n",
      "Dobby\n",
      "Hermione\n",
      "Harry\n"
     ]
    }
   ],
   "source": [
    "# Task 14 - Nextflow has the concept of maps. Write the names in the maps in this channel to a file called \"names.txt\". Each name should be on a new line. \n",
    "#           Store the file in the \"results\" directory under the name \"names.txt\"\n",
    "\n",
    "!nextflow run basic_channel_operations.nf --step 14\n",
    "\n",
    "!cat results/names.txt\n"
   ]
  },
  {
   "cell_type": "markdown",
   "metadata": {},
   "source": [
    "## Now that we learned about Channels and Operators to deal with them, let's focus on Processes that make use of these channels."
   ]
  },
  {
   "cell_type": "markdown",
   "metadata": {},
   "source": [
    "Please answer the questions in $\\texttt{basics\\_processes.nf}$ and run the code here. "
   ]
  },
  {
   "cell_type": "code",
   "execution_count": 68,
   "metadata": {},
   "outputs": [
    {
     "name": "stdout",
     "output_type": "stream",
     "text": [
      "\n",
      "\u001b[1m\u001b[38;5;232m\u001b[48;5;43m N E X T F L O W \u001b[0;2m  ~  \u001b[mversion 25.04.7\u001b[m\n",
      "\u001b[K\n",
      "Launching\u001b[35m `basics_processes.nf` \u001b[0;2m[\u001b[0;1;36mkickass_lamarck\u001b[0;2m] DSL2 - \u001b[36mrevision: \u001b[0;36m890d7fc19a\u001b[m\n",
      "\u001b[K\n",
      "\u001b[2mexecutor >  local (1)\u001b[m\u001b[K\n",
      "\u001b[2m[\u001b[0;34m6f/f187f5\u001b[0;2m] \u001b[0;2m\u001b[mSAYHELLO\u001b[2m |\u001b[m 1 of 1\u001b[32m ✔\u001b[m\u001b[K\n",
      "Hello world!\u001b[K\n",
      "\u001b[K\n",
      "\u001b[5A\n",
      "\u001b[2mexecutor >  local (1)\u001b[m\u001b[K\n",
      "\u001b[2m[\u001b[0;34m6f/f187f5\u001b[0;2m] \u001b[0;2m\u001b[mSAYHELLO\u001b[2m |\u001b[m 1 of 1\u001b[32m ✔\u001b[m\u001b[K\n",
      "Hello world!\u001b[K\n",
      "\u001b[K\n",
      "\n"
     ]
    }
   ],
   "source": [
    "# Task 1 - create a process that says Hello World! (add debug true to the process right after initializing to be sable to print the output to the console)\n",
    "!nextflow run basics_processes.nf --step 1"
   ]
  },
  {
   "cell_type": "code",
   "execution_count": 71,
   "metadata": {},
   "outputs": [
    {
     "name": "stdout",
     "output_type": "stream",
     "text": [
      "\n",
      "\u001b[1m\u001b[38;5;232m\u001b[48;5;43m N E X T F L O W \u001b[0;2m  ~  \u001b[mversion 25.04.7\u001b[m\n",
      "\u001b[K\n",
      "Launching\u001b[35m `basics_processes.nf` \u001b[0;2m[\u001b[0;1;36msleepy_lalande\u001b[0;2m] DSL2 - \u001b[36mrevision: \u001b[0;36me9c88b5ce4\u001b[m\n",
      "\u001b[K\n",
      "\u001b[2mexecutor >  local (1)\u001b[m\u001b[K\n",
      "\u001b[2m[\u001b[0;34m3b/8e11ec\u001b[0;2m] \u001b[0;2m\u001b[mSAYHELLO_PYTHON\u001b[2m |\u001b[m 0 of 1\u001b[K\n",
      "\u001b[3A\n",
      "\u001b[2mexecutor >  local (1)\u001b[m\u001b[K\n",
      "\u001b[2m[\u001b[0;34m3b/8e11ec\u001b[0;2m] \u001b[0;2m\u001b[mSAYHELLO_PYTHON\u001b[2m |\u001b[m 1 of 1\u001b[32m ✔\u001b[m\u001b[K\n",
      "Hello world!\u001b[K\n",
      "\u001b[K\n",
      "\n"
     ]
    }
   ],
   "source": [
    "# Task 2 - create a process that says Hello World! using Python\n",
    "!nextflow run basics_processes.nf --step 2"
   ]
  },
  {
   "cell_type": "code",
   "execution_count": 76,
   "metadata": {},
   "outputs": [
    {
     "name": "stdout",
     "output_type": "stream",
     "text": [
      "\n",
      "\u001b[1m\u001b[38;5;232m\u001b[48;5;43m N E X T F L O W \u001b[0;2m  ~  \u001b[mversion 25.04.7\u001b[m\n",
      "\u001b[K\n",
      "Launching\u001b[35m `basics_processes.nf` \u001b[0;2m[\u001b[0;1;36mjolly_noether\u001b[0;2m] DSL2 - \u001b[36mrevision: \u001b[0;36mbdf1f26474\u001b[m\n",
      "\u001b[K\n",
      "\u001b[2mexecutor >  local (1)\u001b[m\u001b[K\n",
      "\u001b[2m[\u001b[0;34m03/c6b1c6\u001b[0;2m] \u001b[0;2m\u001b[mSAYHELLO_PARAM\u001b[33;2m (\u001b[0;33m1\u001b[2m)\u001b[m\u001b[2m |\u001b[m 1 of 1\u001b[32m ✔\u001b[m\u001b[K\n",
      "Hello world!\u001b[K\n",
      "\u001b[K\n",
      "\u001b[5A\n",
      "\u001b[2mexecutor >  local (1)\u001b[m\u001b[K\n",
      "\u001b[2m[\u001b[0;34m03/c6b1c6\u001b[0;2m] \u001b[0;2m\u001b[mSAYHELLO_PARAM\u001b[33;2m (\u001b[0;33m1\u001b[2m)\u001b[m\u001b[2m |\u001b[m 1 of 1\u001b[32m ✔\u001b[m\u001b[K\n",
      "Hello world!\u001b[K\n",
      "\u001b[K\n",
      "\n"
     ]
    }
   ],
   "source": [
    "# Task 3 - create a process that reads in the string \"Hello world!\" from a channel and write it to command line\n",
    "!nextflow run basics_processes.nf --step 3"
   ]
  },
  {
   "cell_type": "code",
   "execution_count": 77,
   "metadata": {},
   "outputs": [
    {
     "name": "stdout",
     "output_type": "stream",
     "text": [
      "\n",
      "\u001b[1m\u001b[38;5;232m\u001b[48;5;43m N E X T F L O W \u001b[0;2m  ~  \u001b[mversion 25.04.7\u001b[m\n",
      "\u001b[K\n",
      "Launching\u001b[35m `basics_processes.nf` \u001b[0;2m[\u001b[0;1;36mevil_varahamihira\u001b[0;2m] DSL2 - \u001b[36mrevision: \u001b[0;36mcb36a6dd9e\u001b[m\n",
      "\u001b[K\n",
      "\u001b[2mexecutor >  local (1)\u001b[m\u001b[K\n",
      "\u001b[2m[\u001b[0;34m6f/971271\u001b[0;2m] \u001b[0;2m\u001b[mSAYHELLO_FILE\u001b[33;2m (\u001b[0;33m1\u001b[2m)\u001b[m\u001b[2m |\u001b[m 0 of 1\u001b[K\n",
      "\u001b[3A\n",
      "\u001b[2mexecutor >  local (1)\u001b[m\u001b[K\n",
      "\u001b[2m[\u001b[0;34m6f/971271\u001b[0;2m] \u001b[0;2m\u001b[mSAYHELLO_FILE\u001b[33;2m (\u001b[0;33m1\u001b[2m)\u001b[m\u001b[2m |\u001b[m 1 of 1\u001b[32m ✔\u001b[m\u001b[K\n",
      "\n"
     ]
    }
   ],
   "source": [
    "# Task 4 - create a process that reads in the string \"Hello world!\" from a channel and write it to a file. \n",
    "!nextflow run basics_processes.nf --step 4 # It was saved in a seemingly random work directory"
   ]
  },
  {
   "cell_type": "markdown",
   "metadata": {},
   "source": [
    "It might be that you created the file but it doesnt appear in the directory. Use the work folder and the output on the command line to find the file."
   ]
  },
  {
   "cell_type": "code",
   "execution_count": 82,
   "metadata": {},
   "outputs": [
    {
     "name": "stdout",
     "output_type": "stream",
     "text": [
      "\n",
      "\u001b[1m\u001b[38;5;232m\u001b[48;5;43m N E X T F L O W \u001b[0;2m  ~  \u001b[mversion 25.04.7\u001b[m\n",
      "\u001b[K\n",
      "Launching\u001b[35m `basics_processes.nf` \u001b[0;2m[\u001b[0;1;36mtrusting_mcclintock\u001b[0;2m] DSL2 - \u001b[36mrevision: \u001b[0;36m1dceb26a3a\u001b[m\n",
      "\u001b[K\n",
      "\u001b[2mexecutor >  local (1)\u001b[m\u001b[K\n",
      "\u001b[2m[\u001b[0;34m1a/0535ab\u001b[0;2m] \u001b[0;2m\u001b[mUPPERCASE\u001b[33;2m (\u001b[0;33m1\u001b[2m)\u001b[m\u001b[2m |\u001b[m 0 of 1\u001b[K\n",
      "\u001b[3A\n",
      "\u001b[2mexecutor >  local (1)\u001b[m\u001b[K\n",
      "\u001b[2m[\u001b[0;34m1a/0535ab\u001b[0;2m] \u001b[0;2m\u001b[mUPPERCASE\u001b[33;2m (\u001b[0;33m1\u001b[2m)\u001b[m\u001b[2m |\u001b[m 1 of 1\u001b[32m ✔\u001b[m\u001b[K\n",
      "/Users/fbarlow/Desktop/VSCODE-MAIN/CWBD/computational-workflows-2025/notebooks/day_04/work/1a/0535ab2c2eea6b74518621e0e2ec8e/upper.txt\u001b[K\n",
      "\n"
     ]
    }
   ],
   "source": [
    "# Task 5 - create a process that reads in a string and converts it to uppercase and saves it to a file as output. View the path to the file in the console\n",
    "!nextflow run basics_processes.nf --step 5"
   ]
  },
  {
   "cell_type": "code",
   "execution_count": 81,
   "metadata": {},
   "outputs": [
    {
     "name": "stdout",
     "output_type": "stream",
     "text": [
      "\n",
      "\u001b[1m\u001b[38;5;232m\u001b[48;5;43m N E X T F L O W \u001b[0;2m  ~  \u001b[mversion 25.04.7\u001b[m\n",
      "\u001b[K\n",
      "Launching\u001b[35m `basics_processes.nf` \u001b[0;2m[\u001b[0;1;36mzen_carson\u001b[0;2m] DSL2 - \u001b[36mrevision: \u001b[0;36m1dceb26a3a\u001b[m\n",
      "\u001b[K\n",
      "\u001b[2mexecutor >  local (1)\u001b[m\u001b[K\n",
      "\u001b[2m[\u001b[0;34mb8/cecae6\u001b[0;2m] \u001b[0;2m\u001b[mUPPERCASE\u001b[33;2m (\u001b[0;33m1\u001b[2m)\u001b[m\u001b[2m |\u001b[m 0 of 1\u001b[K\n",
      "\u001b[2m[\u001b[0;34m-        \u001b[0;2m] \u001b[0;2m\u001b[mPRINTUPPER    -\u001b[K\n",
      "\u001b[4A\n",
      "\u001b[2mexecutor >  local (2)\u001b[m\u001b[K\n",
      "\u001b[2m[\u001b[0;34mb8/cecae6\u001b[0;2m] \u001b[0;2m\u001b[mUPPERCASE\u001b[33;2m (\u001b[0;33m1\u001b[2m)\u001b[m \u001b[2m |\u001b[m 1 of 1\u001b[32m ✔\u001b[m\u001b[K\n",
      "\u001b[2m[\u001b[0;34m8b/c2ffee\u001b[0;2m] \u001b[0;2m\u001b[mPRINTUPPER\u001b[33;2m (\u001b[0;33m1\u001b[2m)\u001b[m\u001b[2m |\u001b[m 1 of 1\u001b[32m ✔\u001b[m\u001b[K\n",
      "HELLO WORLD!\u001b[K\n",
      "\u001b[K\n",
      "\n"
     ]
    }
   ],
   "source": [
    "# Task 6 - add another process that reads in the resulting file from UPPERCASE and print the content to the console (debug true).\n",
    "!nextflow run basics_processes.nf --step 6"
   ]
  },
  {
   "cell_type": "markdown",
   "metadata": {},
   "source": [
    "Compared to all the other runs. What changed in the output here and why?\n",
    "Two processes were invoked so we could track the run initially of UPPERCASE and only once it finished PRINTUPPER was started."
   ]
  },
  {
   "cell_type": "code",
   "execution_count": 86,
   "metadata": {},
   "outputs": [
    {
     "name": "stdout",
     "output_type": "stream",
     "text": [
      "\n",
      "\u001b[1m\u001b[38;5;232m\u001b[48;5;43m N E X T F L O W \u001b[0;2m  ~  \u001b[mversion 25.04.7\u001b[m\n",
      "\u001b[K\n",
      "Launching\u001b[35m `basics_processes.nf` \u001b[0;2m[\u001b[0;1;36mserene_majorana\u001b[0;2m] DSL2 - \u001b[36mrevision: \u001b[0;36mdacc08cb18\u001b[m\n",
      "\u001b[K\n",
      "\u001b[2mexecutor >  local (1)\u001b[m\u001b[K\n",
      "\u001b[2m[\u001b[0;34m12/f43b55\u001b[0;2m] \u001b[0;2m\u001b[mUPPERCASE\u001b[33;2m (\u001b[0;33m1\u001b[2m)\u001b[m\u001b[2m |\u001b[m 0 of 1\u001b[K\n",
      "\u001b[2m[\u001b[0;34m-        \u001b[0;2m] \u001b[0;2m\u001b[mCOMPRESS      -\u001b[K\n",
      "\u001b[4A\n",
      "\u001b[2mexecutor >  local (2)\u001b[m\u001b[K\n",
      "\u001b[2m[\u001b[0;34m12/f43b55\u001b[0;2m] \u001b[0;2m\u001b[mUPPERCASE\u001b[33;2m (\u001b[0;33m1\u001b[2m)\u001b[m\u001b[2m |\u001b[m 1 of 1\u001b[32m ✔\u001b[m\u001b[K\n",
      "\u001b[2m[\u001b[0;34mde/1a6d40\u001b[0;2m] \u001b[0;2m\u001b[mCOMPRESS\u001b[33;2m (\u001b[0;33m1\u001b[2m)\u001b[m \u001b[2m |\u001b[m 1 of 1\u001b[32m ✔\u001b[m\u001b[K\n",
      "  adding: upper.txt (stored 0%)\u001b[K\n",
      "Created file: /Users/fbarlow/Desktop/VSCODE-MAIN/CWBD/computational-workflows-2025/notebooks/day_04/work/de/1a6d40b5f2611ffaa3eca2ae296c50/upper.txt.zip\u001b[K\n",
      "\u001b[K\n",
      "\u001b[7A\n",
      "\u001b[2mexecutor >  local (2)\u001b[m\u001b[K\n",
      "\u001b[2m[\u001b[0;34m12/f43b55\u001b[0;2m] \u001b[0;2m\u001b[mUPPERCASE\u001b[33;2m (\u001b[0;33m1\u001b[2m)\u001b[m\u001b[2m |\u001b[m 1 of 1\u001b[32m ✔\u001b[m\u001b[K\n",
      "\u001b[2m[\u001b[0;34mde/1a6d40\u001b[0;2m] \u001b[0;2m\u001b[mCOMPRESS\u001b[33;2m (\u001b[0;33m1\u001b[2m)\u001b[m \u001b[2m |\u001b[m 1 of 1\u001b[32m ✔\u001b[m\u001b[K\n",
      "  adding: upper.txt (stored 0%)\u001b[K\n",
      "Created file: /Users/fbarlow/Desktop/VSCODE-MAIN/CWBD/computational-workflows-2025/notebooks/day_04/work/de/1a6d40b5f2611ffaa3eca2ae296c50/upper.txt.zip\u001b[K\n",
      "\u001b[K\n",
      "\n"
     ]
    }
   ],
   "source": [
    "# Task 7 - based on the paramater \"zip\" (see at the head of the file), create a process that zips the file created in the UPPERCASE process either in \"zip\", \"gzip\" OR \"bzip2\" format.\n",
    "#          Print out the path to the zipped file in the console\n",
    "!nextflow run basics_processes.nf --step 7"
   ]
  },
  {
   "cell_type": "code",
   "execution_count": 87,
   "metadata": {},
   "outputs": [
    {
     "name": "stdout",
     "output_type": "stream",
     "text": [
      "\n",
      "\u001b[1m\u001b[38;5;232m\u001b[48;5;43m N E X T F L O W \u001b[0;2m  ~  \u001b[mversion 25.04.7\u001b[m\n",
      "\u001b[K\n",
      "Launching\u001b[35m `basics_processes.nf` \u001b[0;2m[\u001b[0;1;36mcurious_bardeen\u001b[0;2m] DSL2 - \u001b[36mrevision: \u001b[0;36maed56d4415\u001b[m\n",
      "\u001b[K\n",
      "\u001b[2m[\u001b[0;34m-        \u001b[0;2m] \u001b[0;2m\u001b[mUPPERCASE   \u001b[2m |\u001b[m 0 of 1\u001b[K\n",
      "\u001b[2m[\u001b[0;34m-        \u001b[0;2m] \u001b[0;2m\u001b[mCOMPRESS_ALL -\u001b[K\n",
      "\u001b[3A\n",
      "\u001b[2mexecutor >  local (2)\u001b[m\u001b[K\n",
      "\u001b[2m[\u001b[0;34m5e/ff1aa8\u001b[0;2m] \u001b[0;2m\u001b[mUPPERCASE\u001b[33;2m (\u001b[0;33m1\u001b[2m)\u001b[m   \u001b[2m |\u001b[m 1 of 1\u001b[32m ✔\u001b[m\u001b[K\n",
      "\u001b[2m[\u001b[0;34m30/e9b759\u001b[0;2m] \u001b[0;2m\u001b[mCOMPRESS_ALL\u001b[33;2m (\u001b[0;33m1\u001b[2m)\u001b[m\u001b[2m |\u001b[m 0 of 1\u001b[K\n",
      "\u001b[4A\n",
      "\u001b[2mexecutor >  local (2)\u001b[m\u001b[K\n",
      "\u001b[2m[\u001b[0;34m5e/ff1aa8\u001b[0;2m] \u001b[0;2m\u001b[mUPPERCASE\u001b[33;2m (\u001b[0;33m1\u001b[2m)\u001b[m   \u001b[2m |\u001b[m 1 of 1\u001b[32m ✔\u001b[m\u001b[K\n",
      "\u001b[2m[\u001b[0;34m30/e9b759\u001b[0;2m] \u001b[0;2m\u001b[mCOMPRESS_ALL\u001b[33;2m (\u001b[0;33m1\u001b[2m)\u001b[m\u001b[2m |\u001b[m 1 of 1\u001b[32m ✔\u001b[m\u001b[K\n",
      "  adding: upper.txt (stored 0%)\u001b[K\n",
      "Created file: /Users/fbarlow/Desktop/VSCODE-MAIN/CWBD/computational-workflows-2025/notebooks/day_04/work/30/e9b759b2ba604cf14194f09890f175/upper.txt.zip\u001b[K\n",
      "Created file: /Users/fbarlow/Desktop/VSCODE-MAIN/CWBD/computational-workflows-2025/notebooks/day_04/work/30/e9b759b2ba604cf14194f09890f175/upper.txt.gz\u001b[K\n",
      "Created file: /Users/fbarlow/Desktop/VSCODE-MAIN/CWBD/computational-workflows-2025/notebooks/day_04/work/30/e9b759b2ba604cf14194f09890f175/upper.txt.bz2\u001b[K\n",
      "\u001b[K\n",
      "\u001b[9A\n",
      "\u001b[2mexecutor >  local (2)\u001b[m\u001b[K\n",
      "\u001b[2m[\u001b[0;34m5e/ff1aa8\u001b[0;2m] \u001b[0;2m\u001b[mUPPERCASE\u001b[33;2m (\u001b[0;33m1\u001b[2m)\u001b[m   \u001b[2m |\u001b[m 1 of 1\u001b[32m ✔\u001b[m\u001b[K\n",
      "\u001b[2m[\u001b[0;34m30/e9b759\u001b[0;2m] \u001b[0;2m\u001b[mCOMPRESS_ALL\u001b[33;2m (\u001b[0;33m1\u001b[2m)\u001b[m\u001b[2m |\u001b[m 1 of 1\u001b[32m ✔\u001b[m\u001b[K\n",
      "  adding: upper.txt (stored 0%)\u001b[K\n",
      "Created file: /Users/fbarlow/Desktop/VSCODE-MAIN/CWBD/computational-workflows-2025/notebooks/day_04/work/30/e9b759b2ba604cf14194f09890f175/upper.txt.zip\u001b[K\n",
      "Created file: /Users/fbarlow/Desktop/VSCODE-MAIN/CWBD/computational-workflows-2025/notebooks/day_04/work/30/e9b759b2ba604cf14194f09890f175/upper.txt.gz\u001b[K\n",
      "Created file: /Users/fbarlow/Desktop/VSCODE-MAIN/CWBD/computational-workflows-2025/notebooks/day_04/work/30/e9b759b2ba604cf14194f09890f175/upper.txt.bz2\u001b[K\n",
      "\u001b[K\n",
      "\n"
     ]
    }
   ],
   "source": [
    "# Task 8 - Create a process that zips the file created in the UPPERCASE process in \"zip\", \"gzip\" AND \"bzip2\" format. Print out the paths to the zipped files in the console\n",
    "!nextflow run basics_processes.nf --step 8"
   ]
  },
  {
   "cell_type": "code",
   "execution_count": 91,
   "metadata": {},
   "outputs": [
    {
     "name": "stdout",
     "output_type": "stream",
     "text": [
      "\n",
      "\u001b[1m\u001b[38;5;232m\u001b[48;5;43m N E X T F L O W \u001b[0;2m  ~  \u001b[mversion 25.04.7\u001b[m\n",
      "\u001b[K\n",
      "Launching\u001b[35m `basics_processes.nf` \u001b[0;2m[\u001b[0;1;36mexotic_meucci\u001b[0;2m] DSL2 - \u001b[36mrevision: \u001b[0;36mea2115df83\u001b[m\n",
      "\u001b[K\n",
      "\u001b[2m[\u001b[0;34m-        \u001b[0;2m] \u001b[0;2m\u001b[mWRITETOFILE -\u001b[K\n",
      "\u001b[2A\n",
      "\u001b[2mexecutor >  local (1)\u001b[m\u001b[K\n",
      "\u001b[2m[\u001b[0;34mdc/679b94\u001b[0;2m] \u001b[0;2m\u001b[mWRITETOFILE\u001b[2m |\u001b[m 1 of 1\u001b[32m ✔\u001b[m\u001b[K\n",
      "/Users/fbarlow/Desktop/VSCODE-MAIN/CWBD/computational-workflows-2025/notebooks/day_04/work/dc/679b948aca73efe9fb4ec0e4cb8e14/results/names.tsv\u001b[K\n",
      "\n"
     ]
    }
   ],
   "source": [
    " # Task 9 - Create a process that reads in a list of names and titles from a channel and writes them to a file.\n",
    "#           Store the file in the \"results\" directory under the name \"names.tsv\"\n",
    "!nextflow run basics_processes.nf --step 9"
   ]
  },
  {
   "cell_type": "code",
   "execution_count": 96,
   "metadata": {},
   "outputs": [
    {
     "data": {
      "text/html": [
       "<div>\n",
       "<style scoped>\n",
       "    .dataframe tbody tr th:only-of-type {\n",
       "        vertical-align: middle;\n",
       "    }\n",
       "\n",
       "    .dataframe tbody tr th {\n",
       "        vertical-align: top;\n",
       "    }\n",
       "\n",
       "    .dataframe thead th {\n",
       "        text-align: right;\n",
       "    }\n",
       "</style>\n",
       "<table border=\"1\" class=\"dataframe\">\n",
       "  <thead>\n",
       "    <tr style=\"text-align: right;\">\n",
       "      <th></th>\n",
       "      <th>name</th>\n",
       "      <th>title</th>\n",
       "    </tr>\n",
       "  </thead>\n",
       "  <tbody>\n",
       "    <tr>\n",
       "      <th>0</th>\n",
       "      <td>Harry</td>\n",
       "      <td>student</td>\n",
       "    </tr>\n",
       "    <tr>\n",
       "      <th>1</th>\n",
       "      <td>Ron</td>\n",
       "      <td>student</td>\n",
       "    </tr>\n",
       "    <tr>\n",
       "      <th>2</th>\n",
       "      <td>Hermione</td>\n",
       "      <td>student</td>\n",
       "    </tr>\n",
       "    <tr>\n",
       "      <th>3</th>\n",
       "      <td>Albus</td>\n",
       "      <td>headmaster</td>\n",
       "    </tr>\n",
       "    <tr>\n",
       "      <th>4</th>\n",
       "      <td>Snape</td>\n",
       "      <td>teacher</td>\n",
       "    </tr>\n",
       "    <tr>\n",
       "      <th>5</th>\n",
       "      <td>Hagrid</td>\n",
       "      <td>groundkeeper</td>\n",
       "    </tr>\n",
       "    <tr>\n",
       "      <th>6</th>\n",
       "      <td>Dobby</td>\n",
       "      <td>hero</td>\n",
       "    </tr>\n",
       "  </tbody>\n",
       "</table>\n",
       "</div>"
      ],
      "text/plain": [
       "       name         title\n",
       "0     Harry       student\n",
       "1       Ron       student\n",
       "2  Hermione       student\n",
       "3     Albus    headmaster\n",
       "4     Snape       teacher\n",
       "5    Hagrid  groundkeeper\n",
       "6     Dobby          hero"
      ]
     },
     "execution_count": 96,
     "metadata": {},
     "output_type": "execute_result"
    }
   ],
   "source": [
    "import pandas as pd\n",
    "# Had to edit this path to make it run without errors\n",
    "df = pd.read_csv(\"work/dc/679b948aca73efe9fb4ec0e4cb8e14/results/names.tsv\", sep=\"\\t\")\n",
    "df"
   ]
  },
  {
   "cell_type": "markdown",
   "metadata": {},
   "source": [
    "## Now, let's try some more advanced Operators"
   ]
  },
  {
   "cell_type": "markdown",
   "metadata": {},
   "source": [
    "Please answer the questions in $\\texttt{advanced\\_channel\\_operations.nf}$ and run the code here. "
   ]
  },
  {
   "cell_type": "markdown",
   "metadata": {},
   "source": [
    "To come closer to actual pipelines, we introduce the concept of \"meta-maps\" which you can imagine as dictionaries that are passed with data via channels containing crucial metadata on the sample. \n",
    "\n",
    "Also, we will come back to samplesheets which you should remember from last week."
   ]
  },
  {
   "cell_type": "code",
   "execution_count": 97,
   "metadata": {},
   "outputs": [
    {
     "name": "stdout",
     "output_type": "stream",
     "text": [
      "\n",
      "\u001b[1m\u001b[38;5;232m\u001b[48;5;43m N E X T F L O W \u001b[0;2m  ~  \u001b[mversion 25.04.7\u001b[m\n",
      "\u001b[K\n",
      "Launching\u001b[35m `advanced_channel_operations.nf` \u001b[0;2m[\u001b[0;1;36minfallible_swartz\u001b[0;2m] DSL2 - \u001b[36mrevision: \u001b[0;36mccf5e49e94\u001b[m\n",
      "\u001b[K\n",
      "[sample, fastq_1, fastq_2, strandedness]\n",
      "[CONTROL_REP1, fq_1_R1.fastq.gz, fq_1_R2.fastq.gz, auto]\n",
      "[CONTROL_REP2, fq_2_R1.fastq.gz, fq_2_R2.fastq.gz, forward]\n",
      "[CONTROL_REP3, fq_3_R1.fastq.gz, fq_3_R2.fastq.gz, reverse]\n",
      "[CONTROL_REP1, fq_4_R1.fastq.gz, fq_4_R2.fastq.gz, auto]\n"
     ]
    }
   ],
   "source": [
    "# Task 1 - Read in the samplesheet.\n",
    "\n",
    "!nextflow run advanced_channel_operations.nf --step 1"
   ]
  },
  {
   "cell_type": "code",
   "execution_count": 101,
   "metadata": {},
   "outputs": [
    {
     "name": "stdout",
     "output_type": "stream",
     "text": [
      "\n",
      "\u001b[1m\u001b[38;5;232m\u001b[48;5;43m N E X T F L O W \u001b[0;2m  ~  \u001b[mversion 25.04.7\u001b[m\n",
      "\u001b[K\n",
      "Launching\u001b[35m `advanced_channel_operations.nf` \u001b[0;2m[\u001b[0;1;36mnaughty_maxwell\u001b[0;2m] DSL2 - \u001b[36mrevision: \u001b[0;36mc8e1d997f8\u001b[m\n",
      "\u001b[K\n",
      "[[sample:CONTROL_REP1, strandedness:auto], [fq_1_R1.fastq.gz, fq_1_R2.fastq.gz]]\n",
      "[[sample:CONTROL_REP2, strandedness:forward], [fq_2_R1.fastq.gz, fq_2_R2.fastq.gz]]\n",
      "[[sample:CONTROL_REP3, strandedness:reverse], [fq_3_R1.fastq.gz, fq_3_R2.fastq.gz]]\n",
      "[[sample:CONTROL_REP1, strandedness:auto], [fq_4_R1.fastq.gz, fq_4_R2.fastq.gz]]\n"
     ]
    }
   ],
   "source": [
    "# Task 2 - Read in the samplesheet and create a meta-map with all metadata and another list with the filenames ([[metadata_1 : metadata_1, ...], [fastq_1, fastq_2]]).\n",
    "#          Set the output to a new channel \"in_ch\" and view the channel. YOU WILL NEED TO COPY AND PASTE THIS CODE INTO SOME OF THE FOLLOWING TASKS (sorry for that).\n",
    "\n",
    "!nextflow run advanced_channel_operations.nf --step 2"
   ]
  },
  {
   "cell_type": "code",
   "execution_count": 104,
   "metadata": {},
   "outputs": [
    {
     "name": "stdout",
     "output_type": "stream",
     "text": [
      "\n",
      "\u001b[1m\u001b[38;5;232m\u001b[48;5;43m N E X T F L O W \u001b[0;2m  ~  \u001b[mversion 25.04.7\u001b[m\n",
      "\u001b[K\n",
      "Launching\u001b[35m `advanced_channel_operations.nf` \u001b[0;2m[\u001b[0;1;36mpeaceful_allen\u001b[0;2m] DSL2 - \u001b[36mrevision: \u001b[0;36m719cbb7fe7\u001b[m\n",
      "\u001b[K\n",
      "REVERSE:  [[sample:CONTROL_REP3, strandedness:reverse], [fq_3_R1.fastq.gz, fq_3_R2.fastq.gz]]\n",
      "FORWARD:  [[sample:CONTROL_REP2, strandedness:forward], [fq_2_R1.fastq.gz, fq_2_R2.fastq.gz]]\n",
      "AUTO:     [[sample:CONTROL_REP1, strandedness:auto], [fq_1_R1.fastq.gz, fq_1_R2.fastq.gz]]\n",
      "AUTO:     [[sample:CONTROL_REP1, strandedness:auto], [fq_4_R1.fastq.gz, fq_4_R2.fastq.gz]]\n"
     ]
    }
   ],
   "source": [
    "# Task 3 - Now we assume that we want to handle different \"strandedness\" values differently. \n",
    "#          Split the channel into the right amount of channels and write them all to stdout so that we can understand which is which.\n",
    "\n",
    "!nextflow run advanced_channel_operations.nf --step 3 -dump-channels"
   ]
  },
  {
   "cell_type": "code",
   "execution_count": 105,
   "metadata": {},
   "outputs": [
    {
     "name": "stdout",
     "output_type": "stream",
     "text": [
      "\n",
      "\u001b[1m\u001b[38;5;232m\u001b[48;5;43m N E X T F L O W \u001b[0;2m  ~  \u001b[mversion 25.04.7\u001b[m\n",
      "\u001b[K\n",
      "Launching\u001b[35m `advanced_channel_operations.nf` \u001b[0;2m[\u001b[0;1;36mevil_woese\u001b[0;2m] DSL2 - \u001b[36mrevision: \u001b[0;36m0ceba68646\u001b[m\n",
      "\u001b[K\n",
      "[[CONTROL_REP1, auto], [[fq_1_R1.fastq.gz, fq_1_R2.fastq.gz], [fq_4_R1.fastq.gz, fq_4_R2.fastq.gz]]]\n",
      "[[CONTROL_REP2, forward], [[fq_2_R1.fastq.gz, fq_2_R2.fastq.gz]]]\n",
      "[[CONTROL_REP3, reverse], [[fq_3_R1.fastq.gz, fq_3_R2.fastq.gz]]]\n"
     ]
    }
   ],
   "source": [
    "# Task 4 - Group together all files with the same sample-id and strandedness value.\n",
    "\n",
    "!nextflow run advanced_channel_operations.nf --step 4"
   ]
  },
  {
   "cell_type": "markdown",
   "metadata": {},
   "source": [
    "## It's finally time to link processes and channels with each other"
   ]
  },
  {
   "cell_type": "markdown",
   "metadata": {},
   "source": [
    "Please go to the file $\\texttt{link\\_p\\_c.nf}$"
   ]
  },
  {
   "cell_type": "code",
   "execution_count": 114,
   "metadata": {},
   "outputs": [
    {
     "name": "stdout",
     "output_type": "stream",
     "text": [
      "\n",
      "\u001b[1m\u001b[38;5;232m\u001b[48;5;43m N E X T F L O W \u001b[0;2m  ~  \u001b[mversion 25.04.7\u001b[m\n",
      "\u001b[K\n",
      "Launching\u001b[35m `link_p_c.nf` \u001b[0;2m[\u001b[0;1;36mmighty_coulomb\u001b[0;2m] DSL2 - \u001b[36mrevision: \u001b[0;36m36f0df0d26\u001b[m\n",
      "\u001b[K\n",
      "\u001b[2m[\u001b[0;34m-        \u001b[0;2m] \u001b[0;2m\u001b[mSPLITLETTERS   -\u001b[K\n",
      "\u001b[2m[\u001b[0;34m-        \u001b[0;2m] \u001b[0;2m\u001b[mCONVERTTOUPPER -\u001b[K\n",
      "\u001b[3A\n",
      "\u001b[2mexecutor >  local (4)\u001b[m\u001b[K\n",
      "\u001b[2m[\u001b[0;34m20/36d1ca\u001b[0;2m] \u001b[0;2m\u001b[mSPLITLETTERS\u001b[33;2m (\u001b[0;33m1\u001b[2m)\u001b[m  \u001b[2m |\u001b[m 2 of 2\u001b[32m ✔\u001b[m\u001b[K\n",
      "\u001b[2m[\u001b[0;34mc5/7c6626\u001b[0;2m] \u001b[0;2m\u001b[mCONVERTTOUPPER\u001b[33;2m (\u001b[0;33m2\u001b[2m)\u001b[m\u001b[2m |\u001b[m 2 of 2\u001b[32m ✔\u001b[m\u001b[K\n",
      "=== h_w_1.txt ===\u001b[K\n",
      "HELL\u001b[K\n",
      "=== h_w_2.txt ===\u001b[K\n",
      "O WO\u001b[K\n",
      "=== h_w_3.txt ===\u001b[K\n",
      "RLD\u001b[K\n",
      "\u001b[K\n",
      "=== c_w_1.txt ===\u001b[K\n",
      "COM\u001b[K\n",
      "=== c_w_2.txt ===\u001b[K\n",
      "PUT\u001b[K\n",
      "=== c_w_3.txt ===\u001b[K\n",
      "ATI\u001b[K\n",
      "=== c_w_4.txt ===\u001b[K\n",
      "ONA\u001b[K\n",
      "=== c_w_5.txt ===\u001b[K\n",
      "L W\u001b[K\n",
      "=== c_w_6.txt ===\u001b[K\n",
      "ORK\u001b[K\n",
      "=== c_w_7.txt ===\u001b[K\n",
      "FLO\u001b[K\n",
      "=== c_w_8.txt ===\u001b[K\n",
      "WS\u001b[K\n",
      "\u001b[K\n",
      "\u001b[28A\n",
      "\u001b[2mexecutor >  local (4)\u001b[m\u001b[K\n",
      "\u001b[2m[\u001b[0;34m20/36d1ca\u001b[0;2m] \u001b[0;2m\u001b[mSPLITLETTERS\u001b[33;2m (\u001b[0;33m1\u001b[2m)\u001b[m  \u001b[2m |\u001b[m 2 of 2\u001b[32m ✔\u001b[m\u001b[K\n",
      "\u001b[2m[\u001b[0;34mc5/7c6626\u001b[0;2m] \u001b[0;2m\u001b[mCONVERTTOUPPER\u001b[33;2m (\u001b[0;33m2\u001b[2m)\u001b[m\u001b[2m |\u001b[m 2 of 2\u001b[32m ✔\u001b[m\u001b[K\n",
      "=== h_w_1.txt ===\u001b[K\n",
      "HELL\u001b[K\n",
      "=== h_w_2.txt ===\u001b[K\n",
      "O WO\u001b[K\n",
      "=== h_w_3.txt ===\u001b[K\n",
      "RLD\u001b[K\n",
      "\u001b[K\n",
      "=== c_w_1.txt ===\u001b[K\n",
      "COM\u001b[K\n",
      "=== c_w_2.txt ===\u001b[K\n",
      "PUT\u001b[K\n",
      "=== c_w_3.txt ===\u001b[K\n",
      "ATI\u001b[K\n",
      "=== c_w_4.txt ===\u001b[K\n",
      "ONA\u001b[K\n",
      "=== c_w_5.txt ===\u001b[K\n",
      "L W\u001b[K\n",
      "=== c_w_6.txt ===\u001b[K\n",
      "ORK\u001b[K\n",
      "=== c_w_7.txt ===\u001b[K\n",
      "FLO\u001b[K\n",
      "=== c_w_8.txt ===\u001b[K\n",
      "WS\u001b[K\n",
      "\u001b[K\n",
      "\n"
     ]
    }
   ],
   "source": [
    "!nextflow run link_p_c.nf"
   ]
  },
  {
   "cell_type": "markdown",
   "metadata": {},
   "source": [
    "### Give a list with the paths to the chunk files"
   ]
  },
  {
   "cell_type": "code",
   "execution_count": null,
   "metadata": {},
   "outputs": [],
   "source": [
    "/Users/fbarlow/Desktop/VSCODE-MAIN/CWBD/computational-workflows-2025/notebooks/day_04/work/25/d8702cd4d13871b3cdf61346f84994/h_w_1.txt\n",
    "/Users/fbarlow/Desktop/VSCODE-MAIN/CWBD/computational-workflows-2025/notebooks/day_04/work/25/d8702cd4d13871b3cdf61346f84994/h_w_2.txt\n",
    "/Users/fbarlow/Desktop/VSCODE-MAIN/CWBD/computational-workflows-2025/notebooks/day_04/work/25/d8702cd4d13871b3cdf61346f84994/h_w_3.txt\n",
    "\n",
    "\n",
    "/Users/fbarlow/Desktop/VSCODE-MAIN/CWBD/computational-workflows-2025/notebooks/day_04/work/4d/9c360f7490c76a27ddef4a876cda73/c_w_1.txt\n",
    "/Users/fbarlow/Desktop/VSCODE-MAIN/CWBD/computational-workflows-2025/notebooks/day_04/work/4d/9c360f7490c76a27ddef4a876cda73/c_w_2.txt\n",
    "/Users/fbarlow/Desktop/VSCODE-MAIN/CWBD/computational-workflows-2025/notebooks/day_04/work/4d/9c360f7490c76a27ddef4a876cda73/c_w_3.txt\n",
    "/Users/fbarlow/Desktop/VSCODE-MAIN/CWBD/computational-workflows-2025/notebooks/day_04/work/4d/9c360f7490c76a27ddef4a876cda73/c_w_4.txt\n",
    "/Users/fbarlow/Desktop/VSCODE-MAIN/CWBD/computational-workflows-2025/notebooks/day_04/work/4d/9c360f7490c76a27ddef4a876cda73/c_w_5.txt\n",
    "/Users/fbarlow/Desktop/VSCODE-MAIN/CWBD/computational-workflows-2025/notebooks/day_04/work/4d/9c360f7490c76a27ddef4a876cda73/c_w_6.txt\n",
    "/Users/fbarlow/Desktop/VSCODE-MAIN/CWBD/computational-workflows-2025/notebooks/day_04/work/4d/9c360f7490c76a27ddef4a876cda73/c_w_7.txt\n",
    "/Users/fbarlow/Desktop/VSCODE-MAIN/CWBD/computational-workflows-2025/notebooks/day_04/work/4d/9c360f7490c76a27ddef4a876cda73/c_w_8.txt"
   ]
  },
  {
   "cell_type": "markdown",
   "metadata": {},
   "source": [
    "### Why was CONVERTTOUPPER run so often?"
   ]
  },
  {
   "cell_type": "markdown",
   "metadata": {},
   "source": []
  }
 ],
 "metadata": {
  "kernelspec": {
   "display_name": "cwbd",
   "language": "python",
   "name": "python3"
  },
  "language_info": {
   "codemirror_mode": {
    "name": "ipython",
    "version": 3
   },
   "file_extension": ".py",
   "mimetype": "text/x-python",
   "name": "python",
   "nbconvert_exporter": "python",
   "pygments_lexer": "ipython3",
   "version": "3.13.7"
  }
 },
 "nbformat": 4,
 "nbformat_minor": 2
}
