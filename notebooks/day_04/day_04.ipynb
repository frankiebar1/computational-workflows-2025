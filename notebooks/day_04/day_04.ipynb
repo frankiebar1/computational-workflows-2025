{
 "cells": [
  {
   "cell_type": "markdown",
   "metadata": {},
   "source": [
    "# Day 6 - Nextflow Basics: Introduction to channels and operators"
   ]
  },
  {
   "cell_type": "markdown",
   "metadata": {},
   "source": [
    "Today, we will begin exploring Nextflow, the programming language that powers the advanced nf-core pipelines you worked with last week. Your task is to dive into the core concepts and syntax of Nextflow, understanding how this language enables the development of scalable and reproducible workflows.\n",
    "\n",
    "Nextflow works quite differently from traditional programming languages like Python or Java that you may already be familiar with. To get started, it is essential to understand the foundational concepts that set Nextflow apart."
   ]
  },
  {
   "cell_type": "markdown",
   "metadata": {},
   "source": [
    "### 1. Describe the concept of Workflows, Processes and Channels we deal with in Nextflow"
   ]
  },
  {
   "cell_type": "markdown",
   "metadata": {},
   "source": [
    "Workflows: A workflow is a function that is specialized for composing processes and dataflow logic like channels and operators\n",
    "\n",
    "\n",
    "\n",
    "\n",
    "\n",
    "Processes: A process is a specialized function for executing scripts, they consist of name and body, and the latter is made up of multiple statements\n",
    "\n",
    "\n",
    "\n",
    "\n",
    "\n",
    "\n",
    "Channels: A channel is an asynchronous sequence of values that cannot be accessed directly yet only through an operator or process."
   ]
  },
  {
   "cell_type": "markdown",
   "metadata": {},
   "source": [
    "## Introduction to channels\n",
    "\n",
    "Please refer to the file  $\\texttt{channels\\_intro.nf}$ for the next exercises. Then run the code with the respective flag here below. "
   ]
  },
  {
   "cell_type": "code",
   "execution_count": 7,
   "metadata": {},
   "outputs": [
    {
     "name": "stdout",
     "output_type": "stream",
     "text": [
      "\n",
      "\u001b[1m\u001b[38;5;232m\u001b[48;5;43m N E X T F L O W \u001b[0;2m  ~  \u001b[mversion 25.04.7\u001b[m\n",
      "\u001b[K\n",
      "Launching\u001b[35m `channels_intro.nf` \u001b[0;2m[\u001b[0;1;36mmighty_ritchie\u001b[0;2m] DSL2 - \u001b[36mrevision: \u001b[0;36m368045256c\u001b[m\n",
      "\u001b[K\n",
      "1\n",
      "2\n",
      "3\n",
      "4\n",
      "5\n",
      "6\n",
      "7\n",
      "8\n",
      "9\n",
      "10\n"
     ]
    }
   ],
   "source": [
    "# Task 1 - Create a channel that enumerates the numbers from 1 to 10\n",
    "!nextflow run channels_intro.nf --step 1"
   ]
  },
  {
   "cell_type": "code",
   "execution_count": 9,
   "metadata": {},
   "outputs": [
    {
     "name": "stdout",
     "output_type": "stream",
     "text": [
      "\n",
      "\u001b[1m\u001b[38;5;232m\u001b[48;5;43m N E X T F L O W \u001b[0;2m  ~  \u001b[mversion 25.04.7\u001b[m\n",
      "\u001b[K\n",
      "Launching\u001b[35m `channels_intro.nf` \u001b[0;2m[\u001b[0;1;36mnauseous_saha\u001b[0;2m] DSL2 - \u001b[36mrevision: \u001b[0;36mfd72d479f1\u001b[m\n",
      "\u001b[K\n",
      "A\n",
      "B\n",
      "C\n",
      "D\n",
      "E\n",
      "F\n",
      "G\n",
      "H\n",
      "I\n",
      "J\n",
      "K\n",
      "L\n",
      "M\n",
      "N\n",
      "O\n",
      "P\n",
      "Q\n",
      "R\n",
      "S\n",
      "T\n",
      "U\n",
      "V\n",
      "W\n",
      "X\n",
      "Y\n",
      "Z\n"
     ]
    }
   ],
   "source": [
    "# Task 2 - Create a channel that gives out the entire alphabet\n",
    "!nextflow run channels_intro.nf --step 2"
   ]
  },
  {
   "cell_type": "code",
   "execution_count": 10,
   "metadata": {},
   "outputs": [
    {
     "name": "stdout",
     "output_type": "stream",
     "text": [
      "\n",
      "\u001b[1m\u001b[38;5;232m\u001b[48;5;43m N E X T F L O W \u001b[0;2m  ~  \u001b[mversion 25.04.7\u001b[m\n",
      "\u001b[K\n",
      "Launching\u001b[35m `channels_intro.nf` \u001b[0;2m[\u001b[0;1;36mnauseous_cray\u001b[0;2m] DSL2 - \u001b[36mrevision: \u001b[0;36mfd72d479f1\u001b[m\n",
      "\u001b[K\n",
      "/Users/fbarlow/Desktop/VSCODE-MAIN/CWBD/computational-workflows-2025/notebooks/day_04/files_dir/SRR5_2.fq\n",
      "/Users/fbarlow/Desktop/VSCODE-MAIN/CWBD/computational-workflows-2025/notebooks/day_04/files_dir/fastq5_2.fq\n",
      "/Users/fbarlow/Desktop/VSCODE-MAIN/CWBD/computational-workflows-2025/notebooks/day_04/files_dir/file_4.txt\n",
      "/Users/fbarlow/Desktop/VSCODE-MAIN/CWBD/computational-workflows-2025/notebooks/day_04/files_dir/file_5.txt\n",
      "/Users/fbarlow/Desktop/VSCODE-MAIN/CWBD/computational-workflows-2025/notebooks/day_04/files_dir/file_1.txt\n",
      "/Users/fbarlow/Desktop/VSCODE-MAIN/CWBD/computational-workflows-2025/notebooks/day_04/files_dir/file_2.txt\n",
      "/Users/fbarlow/Desktop/VSCODE-MAIN/CWBD/computational-workflows-2025/notebooks/day_04/files_dir/fastq.fq\n",
      "/Users/fbarlow/Desktop/VSCODE-MAIN/CWBD/computational-workflows-2025/notebooks/day_04/files_dir/fastq4_2.fq\n",
      "/Users/fbarlow/Desktop/VSCODE-MAIN/CWBD/computational-workflows-2025/notebooks/day_04/files_dir/SRR4_2.fq\n",
      "/Users/fbarlow/Desktop/VSCODE-MAIN/CWBD/computational-workflows-2025/notebooks/day_04/files_dir/file_3.txt\n",
      "/Users/fbarlow/Desktop/VSCODE-MAIN/CWBD/computational-workflows-2025/notebooks/day_04/files_dir/SRR.fq\n",
      "/Users/fbarlow/Desktop/VSCODE-MAIN/CWBD/computational-workflows-2025/notebooks/day_04/files_dir/SRR3_2.fq\n",
      "/Users/fbarlow/Desktop/VSCODE-MAIN/CWBD/computational-workflows-2025/notebooks/day_04/files_dir/fastq3_2.fq\n",
      "/Users/fbarlow/Desktop/VSCODE-MAIN/CWBD/computational-workflows-2025/notebooks/day_04/files_dir/fastq_1.fq\n",
      "/Users/fbarlow/Desktop/VSCODE-MAIN/CWBD/computational-workflows-2025/notebooks/day_04/files_dir/fastq2_2.fq\n",
      "/Users/fbarlow/Desktop/VSCODE-MAIN/CWBD/computational-workflows-2025/notebooks/day_04/files_dir/SRR2_2.fq\n",
      "/Users/fbarlow/Desktop/VSCODE-MAIN/CWBD/computational-workflows-2025/notebooks/day_04/files_dir/fastq1_1.fq\n",
      "/Users/fbarlow/Desktop/VSCODE-MAIN/CWBD/computational-workflows-2025/notebooks/day_04/files_dir/SRR1_1.fq\n",
      "/Users/fbarlow/Desktop/VSCODE-MAIN/CWBD/computational-workflows-2025/notebooks/day_04/files_dir/fastq_2.fq\n",
      "/Users/fbarlow/Desktop/VSCODE-MAIN/CWBD/computational-workflows-2025/notebooks/day_04/files_dir/fastq2_1.fq\n",
      "/Users/fbarlow/Desktop/VSCODE-MAIN/CWBD/computational-workflows-2025/notebooks/day_04/files_dir/SRR2_1.fq\n",
      "/Users/fbarlow/Desktop/VSCODE-MAIN/CWBD/computational-workflows-2025/notebooks/day_04/files_dir/fastq1_2.fq\n",
      "/Users/fbarlow/Desktop/VSCODE-MAIN/CWBD/computational-workflows-2025/notebooks/day_04/files_dir/SRR1_2.fq\n",
      "/Users/fbarlow/Desktop/VSCODE-MAIN/CWBD/computational-workflows-2025/notebooks/day_04/files_dir/SRR3_1.fq\n",
      "/Users/fbarlow/Desktop/VSCODE-MAIN/CWBD/computational-workflows-2025/notebooks/day_04/files_dir/fastq3_1.fq\n",
      "/Users/fbarlow/Desktop/VSCODE-MAIN/CWBD/computational-workflows-2025/notebooks/day_04/files_dir/fastq4_1.fq\n",
      "/Users/fbarlow/Desktop/VSCODE-MAIN/CWBD/computational-workflows-2025/notebooks/day_04/files_dir/SRR4_1.fq\n",
      "/Users/fbarlow/Desktop/VSCODE-MAIN/CWBD/computational-workflows-2025/notebooks/day_04/files_dir/SRR5_1.fq\n",
      "/Users/fbarlow/Desktop/VSCODE-MAIN/CWBD/computational-workflows-2025/notebooks/day_04/files_dir/fastq5_1.fq\n"
     ]
    }
   ],
   "source": [
    "# Task 3 - Create a channel that includes all files in the \"files_dir\" directory\n",
    "!nextflow run channels_intro.nf --step 3"
   ]
  },
  {
   "cell_type": "code",
   "execution_count": 11,
   "metadata": {},
   "outputs": [
    {
     "name": "stdout",
     "output_type": "stream",
     "text": [
      "\n",
      "\u001b[1m\u001b[38;5;232m\u001b[48;5;43m N E X T F L O W \u001b[0;2m  ~  \u001b[mversion 25.04.7\u001b[m\n",
      "\u001b[K\n",
      "Launching\u001b[35m `channels_intro.nf` \u001b[0;2m[\u001b[0;1;36msharp_wing\u001b[0;2m] DSL2 - \u001b[36mrevision: \u001b[0;36md5af6bc0d6\u001b[m\n",
      "\u001b[K\n",
      "/Users/fbarlow/Desktop/VSCODE-MAIN/CWBD/computational-workflows-2025/notebooks/day_04/files_dir/file_4.txt\n",
      "/Users/fbarlow/Desktop/VSCODE-MAIN/CWBD/computational-workflows-2025/notebooks/day_04/files_dir/file_5.txt\n",
      "/Users/fbarlow/Desktop/VSCODE-MAIN/CWBD/computational-workflows-2025/notebooks/day_04/files_dir/file_1.txt\n",
      "/Users/fbarlow/Desktop/VSCODE-MAIN/CWBD/computational-workflows-2025/notebooks/day_04/files_dir/file_2.txt\n",
      "/Users/fbarlow/Desktop/VSCODE-MAIN/CWBD/computational-workflows-2025/notebooks/day_04/files_dir/file_3.txt\n"
     ]
    }
   ],
   "source": [
    "# Task 4 - Create a channel that includes all TXT files in the \"files_dir\" directory\n",
    "!nextflow run channels_intro.nf --step 4"
   ]
  },
  {
   "cell_type": "code",
   "execution_count": 12,
   "metadata": {},
   "outputs": [
    {
     "name": "stdout",
     "output_type": "stream",
     "text": [
      "\n",
      "\u001b[1m\u001b[38;5;232m\u001b[48;5;43m N E X T F L O W \u001b[0;2m  ~  \u001b[mversion 25.04.7\u001b[m\n",
      "\u001b[K\n",
      "Launching\u001b[35m `channels_intro.nf` \u001b[0;2m[\u001b[0;1;36mirreverent_agnesi\u001b[0;2m] DSL2 - \u001b[36mrevision: \u001b[0;36m1925374308\u001b[m\n",
      "\u001b[K\n",
      "/Users/fbarlow/Desktop/VSCODE-MAIN/CWBD/computational-workflows-2025/notebooks/day_04/files_dir/fastq_1.fq\n",
      "/Users/fbarlow/Desktop/VSCODE-MAIN/CWBD/computational-workflows-2025/notebooks/day_04/files_dir/fastq_2.fq\n"
     ]
    }
   ],
   "source": [
    "# Task 5 - Create a channel that includes the files \"fastq_1.fq\" and \"fastq_2.fq\" in the \"files_dir\" directory\n",
    "!nextflow run channels_intro.nf --step 5"
   ]
  },
  {
   "cell_type": "code",
   "execution_count": 19,
   "metadata": {},
   "outputs": [
    {
     "name": "stdout",
     "output_type": "stream",
     "text": [
      "\n",
      "\u001b[1m\u001b[38;5;232m\u001b[48;5;43m N E X T F L O W \u001b[0;2m  ~  \u001b[mversion 25.04.7\u001b[m\n",
      "\u001b[K\n",
      "Launching\u001b[35m `channels_intro.nf` \u001b[0;2m[\u001b[0;1;36mcranky_snyder\u001b[0;2m] DSL2 - \u001b[36mrevision: \u001b[0;36mb997d26f08\u001b[m\n",
      "\u001b[K\n",
      "/Users/fbarlow/Desktop/VSCODE-MAIN/CWBD/computational-workflows-2025/notebooks/day_04/files_dir/SRR5_2.fq\n",
      "/Users/fbarlow/Desktop/VSCODE-MAIN/CWBD/computational-workflows-2025/notebooks/day_04/files_dir/fastq5_2.fq\n",
      "/Users/fbarlow/Desktop/VSCODE-MAIN/CWBD/computational-workflows-2025/notebooks/day_04/files_dir/file_4.txt\n",
      "/Users/fbarlow/Desktop/VSCODE-MAIN/CWBD/computational-workflows-2025/notebooks/day_04/files_dir/file_5.txt\n",
      "/Users/fbarlow/Desktop/VSCODE-MAIN/CWBD/computational-workflows-2025/notebooks/day_04/files_dir/file_1.txt\n",
      "/Users/fbarlow/Desktop/VSCODE-MAIN/CWBD/computational-workflows-2025/notebooks/day_04/files_dir/file_2.txt\n",
      "/Users/fbarlow/Desktop/VSCODE-MAIN/CWBD/computational-workflows-2025/notebooks/day_04/files_dir/fastq.fq\n",
      "/Users/fbarlow/Desktop/VSCODE-MAIN/CWBD/computational-workflows-2025/notebooks/day_04/files_dir/fastq4_2.fq\n",
      "/Users/fbarlow/Desktop/VSCODE-MAIN/CWBD/computational-workflows-2025/notebooks/day_04/files_dir/SRR4_2.fq\n",
      "/Users/fbarlow/Desktop/VSCODE-MAIN/CWBD/computational-workflows-2025/notebooks/day_04/files_dir/file_3.txt\n",
      "/Users/fbarlow/Desktop/VSCODE-MAIN/CWBD/computational-workflows-2025/notebooks/day_04/files_dir/SRR.fq\n",
      "/Users/fbarlow/Desktop/VSCODE-MAIN/CWBD/computational-workflows-2025/notebooks/day_04/files_dir/SRR3_2.fq\n",
      "/Users/fbarlow/Desktop/VSCODE-MAIN/CWBD/computational-workflows-2025/notebooks/day_04/files_dir/fastq3_2.fq\n",
      "/Users/fbarlow/Desktop/VSCODE-MAIN/CWBD/computational-workflows-2025/notebooks/day_04/files_dir/fastq_1.fq\n",
      "/Users/fbarlow/Desktop/VSCODE-MAIN/CWBD/computational-workflows-2025/notebooks/day_04/files_dir/fastq2_2.fq\n",
      "/Users/fbarlow/Desktop/VSCODE-MAIN/CWBD/computational-workflows-2025/notebooks/day_04/files_dir/SRR2_2.fq\n",
      "/Users/fbarlow/Desktop/VSCODE-MAIN/CWBD/computational-workflows-2025/notebooks/day_04/files_dir/fastq1_1.fq\n",
      "/Users/fbarlow/Desktop/VSCODE-MAIN/CWBD/computational-workflows-2025/notebooks/day_04/files_dir/SRR1_1.fq\n",
      "/Users/fbarlow/Desktop/VSCODE-MAIN/CWBD/computational-workflows-2025/notebooks/day_04/files_dir/fastq_2.fq\n",
      "/Users/fbarlow/Desktop/VSCODE-MAIN/CWBD/computational-workflows-2025/notebooks/day_04/files_dir/fastq2_1.fq\n",
      "/Users/fbarlow/Desktop/VSCODE-MAIN/CWBD/computational-workflows-2025/notebooks/day_04/files_dir/SRR2_1.fq\n",
      "/Users/fbarlow/Desktop/VSCODE-MAIN/CWBD/computational-workflows-2025/notebooks/day_04/files_dir/fastq1_2.fq\n",
      "/Users/fbarlow/Desktop/VSCODE-MAIN/CWBD/computational-workflows-2025/notebooks/day_04/files_dir/SRR1_2.fq\n",
      "/Users/fbarlow/Desktop/VSCODE-MAIN/CWBD/computational-workflows-2025/notebooks/day_04/files_dir/SRR3_1.fq\n",
      "/Users/fbarlow/Desktop/VSCODE-MAIN/CWBD/computational-workflows-2025/notebooks/day_04/files_dir/fastq3_1.fq\n",
      "/Users/fbarlow/Desktop/VSCODE-MAIN/CWBD/computational-workflows-2025/notebooks/day_04/files_dir/fastq4_1.fq\n",
      "/Users/fbarlow/Desktop/VSCODE-MAIN/CWBD/computational-workflows-2025/notebooks/day_04/files_dir/SRR4_1.fq\n",
      "/Users/fbarlow/Desktop/VSCODE-MAIN/CWBD/computational-workflows-2025/notebooks/day_04/files_dir/SRR5_1.fq\n",
      "/Users/fbarlow/Desktop/VSCODE-MAIN/CWBD/computational-workflows-2025/notebooks/day_04/files_dir/fastq5_1.fq\n",
      "/Users/fbarlow/Desktop/VSCODE-MAIN/CWBD/computational-workflows-2025/notebooks/day_04/files_dir/.hidden_2.txt\n",
      "/Users/fbarlow/Desktop/VSCODE-MAIN/CWBD/computational-workflows-2025/notebooks/day_04/files_dir/.hidden_1.txt\n"
     ]
    }
   ],
   "source": [
    "# Task 6 - go back to the time when you included all files. Are you sure that really ALL files are included? If not, how can you include them?\n",
    "!nextflow run channels_intro.nf --step 6"
   ]
  },
  {
   "cell_type": "code",
   "execution_count": 21,
   "metadata": {},
   "outputs": [
    {
     "name": "stdout",
     "output_type": "stream",
     "text": [
      "\n",
      "\u001b[1m\u001b[38;5;232m\u001b[48;5;43m N E X T F L O W \u001b[0;2m  ~  \u001b[mversion 25.04.7\u001b[m\n",
      "\u001b[K\n",
      "Launching\u001b[35m `channels_intro.nf` \u001b[0;2m[\u001b[0;1;36mnice_dijkstra\u001b[0;2m] DSL2 - \u001b[36mrevision: \u001b[0;36m7ad5f8977f\u001b[m\n",
      "\u001b[K\n",
      "[fastq, [/Users/fbarlow/Desktop/VSCODE-MAIN/CWBD/computational-workflows-2025/notebooks/day_04/files_dir/fastq_1.fq, /Users/fbarlow/Desktop/VSCODE-MAIN/CWBD/computational-workflows-2025/notebooks/day_04/files_dir/fastq_2.fq]]\n",
      "[fastq2, [/Users/fbarlow/Desktop/VSCODE-MAIN/CWBD/computational-workflows-2025/notebooks/day_04/files_dir/fastq2_1.fq, /Users/fbarlow/Desktop/VSCODE-MAIN/CWBD/computational-workflows-2025/notebooks/day_04/files_dir/fastq2_2.fq]]\n",
      "[SRR2, [/Users/fbarlow/Desktop/VSCODE-MAIN/CWBD/computational-workflows-2025/notebooks/day_04/files_dir/SRR2_1.fq, /Users/fbarlow/Desktop/VSCODE-MAIN/CWBD/computational-workflows-2025/notebooks/day_04/files_dir/SRR2_2.fq]]\n",
      "[fastq1, [/Users/fbarlow/Desktop/VSCODE-MAIN/CWBD/computational-workflows-2025/notebooks/day_04/files_dir/fastq1_1.fq, /Users/fbarlow/Desktop/VSCODE-MAIN/CWBD/computational-workflows-2025/notebooks/day_04/files_dir/fastq1_2.fq]]\n",
      "[SRR1, [/Users/fbarlow/Desktop/VSCODE-MAIN/CWBD/computational-workflows-2025/notebooks/day_04/files_dir/SRR1_1.fq, /Users/fbarlow/Desktop/VSCODE-MAIN/CWBD/computational-workflows-2025/notebooks/day_04/files_dir/SRR1_2.fq]]\n",
      "[SRR3, [/Users/fbarlow/Desktop/VSCODE-MAIN/CWBD/computational-workflows-2025/notebooks/day_04/files_dir/SRR3_1.fq, /Users/fbarlow/Desktop/VSCODE-MAIN/CWBD/computational-workflows-2025/notebooks/day_04/files_dir/SRR3_2.fq]]\n",
      "[fastq3, [/Users/fbarlow/Desktop/VSCODE-MAIN/CWBD/computational-workflows-2025/notebooks/day_04/files_dir/fastq3_1.fq, /Users/fbarlow/Desktop/VSCODE-MAIN/CWBD/computational-workflows-2025/notebooks/day_04/files_dir/fastq3_2.fq]]\n",
      "[fastq4, [/Users/fbarlow/Desktop/VSCODE-MAIN/CWBD/computational-workflows-2025/notebooks/day_04/files_dir/fastq4_1.fq, /Users/fbarlow/Desktop/VSCODE-MAIN/CWBD/computational-workflows-2025/notebooks/day_04/files_dir/fastq4_2.fq]]\n",
      "[SRR4, [/Users/fbarlow/Desktop/VSCODE-MAIN/CWBD/computational-workflows-2025/notebooks/day_04/files_dir/SRR4_1.fq, /Users/fbarlow/Desktop/VSCODE-MAIN/CWBD/computational-workflows-2025/notebooks/day_04/files_dir/SRR4_2.fq]]\n",
      "[SRR5, [/Users/fbarlow/Desktop/VSCODE-MAIN/CWBD/computational-workflows-2025/notebooks/day_04/files_dir/SRR5_1.fq, /Users/fbarlow/Desktop/VSCODE-MAIN/CWBD/computational-workflows-2025/notebooks/day_04/files_dir/SRR5_2.fq]]\n",
      "[fastq5, [/Users/fbarlow/Desktop/VSCODE-MAIN/CWBD/computational-workflows-2025/notebooks/day_04/files_dir/fastq5_1.fq, /Users/fbarlow/Desktop/VSCODE-MAIN/CWBD/computational-workflows-2025/notebooks/day_04/files_dir/fastq5_2.fq]]\n"
     ]
    }
   ],
   "source": [
    "# Task 7 - get all filepairs in the \"files_dir\" directory\n",
    "!nextflow run channels_intro.nf --step 7"
   ]
  },
  {
   "cell_type": "markdown",
   "metadata": {},
   "source": [
    "## Now that you have a solid understanding of the basic concepts of channels in Nextflow, it’s time to experiment and see how they work in practice."
   ]
  },
  {
   "cell_type": "markdown",
   "metadata": {},
   "source": [
    "To do so, Nextflow has the concept of Operators to give and pass information inbetween channels.\n",
    "\n",
    "Please answer the questions in $\\texttt{basic\\_channel\\_operations.nf}$ and run the code here. "
   ]
  },
  {
   "cell_type": "code",
   "execution_count": 23,
   "metadata": {},
   "outputs": [
    {
     "name": "stdout",
     "output_type": "stream",
     "text": [
      "\n",
      "\u001b[1m\u001b[38;5;232m\u001b[48;5;43m N E X T F L O W \u001b[0;2m  ~  \u001b[mversion 25.04.7\u001b[m\n",
      "\u001b[K\n",
      "Launching\u001b[35m `basic_channel_operations.nf` \u001b[0;2m[\u001b[0;1;36mawesome_hawking\u001b[0;2m] DSL2 - \u001b[36mrevision: \u001b[0;36mf1ff94ce4b\u001b[m\n",
      "\u001b[K\n",
      "1\n"
     ]
    }
   ],
   "source": [
    "# Task 1 - Extract the first item from the channel\n",
    "!nextflow run basic_channel_operations.nf --step 1"
   ]
  },
  {
   "cell_type": "code",
   "execution_count": 24,
   "metadata": {},
   "outputs": [
    {
     "name": "stdout",
     "output_type": "stream",
     "text": [
      "\n",
      "\u001b[1m\u001b[38;5;232m\u001b[48;5;43m N E X T F L O W \u001b[0;2m  ~  \u001b[mversion 25.04.7\u001b[m\n",
      "\u001b[K\n",
      "Launching\u001b[35m `basic_channel_operations.nf` \u001b[0;2m[\u001b[0;1;36mcompassionate_magritte\u001b[0;2m] DSL2 - \u001b[36mrevision: \u001b[0;36mc0064d2552\u001b[m\n",
      "\u001b[K\n",
      "3\n"
     ]
    }
   ],
   "source": [
    "# Task 2 - Extract the last item from the channel\n",
    "!nextflow run basic_channel_operations.nf --step 2"
   ]
  },
  {
   "cell_type": "code",
   "execution_count": 27,
   "metadata": {},
   "outputs": [
    {
     "name": "stdout",
     "output_type": "stream",
     "text": [
      "\n",
      "\u001b[1m\u001b[38;5;232m\u001b[48;5;43m N E X T F L O W \u001b[0;2m  ~  \u001b[mversion 25.04.7\u001b[m\n",
      "\u001b[K\n",
      "Launching\u001b[35m `basic_channel_operations.nf` \u001b[0;2m[\u001b[0;1;36mgoofy_keller\u001b[0;2m] DSL2 - \u001b[36mrevision: \u001b[0;36mdf9f5f7cb9\u001b[m\n",
      "\u001b[K\n",
      "1\n",
      "2\n"
     ]
    }
   ],
   "source": [
    "# Task 3 - Use an operator to extract the first two items from the channel\n",
    "!nextflow run basic_channel_operations.nf --step 3"
   ]
  },
  {
   "cell_type": "code",
   "execution_count": 30,
   "metadata": {},
   "outputs": [
    {
     "name": "stdout",
     "output_type": "stream",
     "text": [
      "\n",
      "\u001b[1m\u001b[38;5;232m\u001b[48;5;43m N E X T F L O W \u001b[0;2m  ~  \u001b[mversion 25.04.7\u001b[m\n",
      "\u001b[K\n",
      "Launching\u001b[35m `basic_channel_operations.nf` \u001b[0;2m[\u001b[0;1;36mdistracted_davinci\u001b[0;2m] DSL2 - \u001b[36mrevision: \u001b[0;36m432a12d599\u001b[m\n",
      "\u001b[K\n",
      "4\n",
      "9\n",
      "16\n"
     ]
    }
   ],
   "source": [
    "# Task 4 - Return the squared values of the channel\n",
    "!nextflow run basic_channel_operations.nf --step 4"
   ]
  },
  {
   "cell_type": "code",
   "execution_count": 29,
   "metadata": {},
   "outputs": [
    {
     "name": "stdout",
     "output_type": "stream",
     "text": [
      "\n",
      "\u001b[1m\u001b[38;5;232m\u001b[48;5;43m N E X T F L O W \u001b[0;2m  ~  \u001b[mversion 25.04.7\u001b[m\n",
      "\u001b[K\n",
      "Launching\u001b[35m `basic_channel_operations.nf` \u001b[0;2m[\u001b[0;1;36mcheesy_saha\u001b[0;2m] DSL2 - \u001b[36mrevision: \u001b[0;36mb17ed45557\u001b[m\n",
      "\u001b[K\n",
      "4\n",
      "9\n"
     ]
    }
   ],
   "source": [
    "# Task 5 - Remember the previous task where you squared the values of the channel. Now, extract the first two items from the squared channel\n",
    "!nextflow run basic_channel_operations.nf --step 5"
   ]
  },
  {
   "cell_type": "code",
   "execution_count": 33,
   "metadata": {},
   "outputs": [
    {
     "name": "stdout",
     "output_type": "stream",
     "text": [
      "\n",
      "\u001b[1m\u001b[38;5;232m\u001b[48;5;43m N E X T F L O W \u001b[0;2m  ~  \u001b[mversion 25.04.7\u001b[m\n",
      "\u001b[K\n",
      "Launching\u001b[35m `basic_channel_operations.nf` \u001b[0;2m[\u001b[0;1;36mextravagant_einstein\u001b[0;2m] DSL2 - \u001b[36mrevision: \u001b[0;36m826345303c\u001b[m\n",
      "\u001b[K\n",
      "rolyaT\n",
      "tfiwS\n"
     ]
    }
   ],
   "source": [
    "# Task 6 - Remember when you used bash to reverse the output? Try to use map and Groovy to reverse the output\n",
    "!nextflow run basic_channel_operations.nf --step 6"
   ]
  },
  {
   "cell_type": "code",
   "execution_count": 34,
   "metadata": {},
   "outputs": [
    {
     "name": "stdout",
     "output_type": "stream",
     "text": [
      "\n",
      "\u001b[1m\u001b[38;5;232m\u001b[48;5;43m N E X T F L O W \u001b[0;2m  ~  \u001b[mversion 25.04.7\u001b[m\n",
      "\u001b[K\n",
      "Launching\u001b[35m `basic_channel_operations.nf` \u001b[0;2m[\u001b[0;1;36mreverent_noether\u001b[0;2m] DSL2 - \u001b[36mrevision: \u001b[0;36m9a9c4969b6\u001b[m\n",
      "\u001b[K\n",
      "[SRR5_2.fq, /Users/fbarlow/Desktop/VSCODE-MAIN/CWBD/computational-workflows-2025/notebooks/day_04/files_dir/SRR5_2.fq]\n",
      "[fastq5_2.fq, /Users/fbarlow/Desktop/VSCODE-MAIN/CWBD/computational-workflows-2025/notebooks/day_04/files_dir/fastq5_2.fq]\n",
      "[fastq.fq, /Users/fbarlow/Desktop/VSCODE-MAIN/CWBD/computational-workflows-2025/notebooks/day_04/files_dir/fastq.fq]\n",
      "[fastq4_2.fq, /Users/fbarlow/Desktop/VSCODE-MAIN/CWBD/computational-workflows-2025/notebooks/day_04/files_dir/fastq4_2.fq]\n",
      "[SRR4_2.fq, /Users/fbarlow/Desktop/VSCODE-MAIN/CWBD/computational-workflows-2025/notebooks/day_04/files_dir/SRR4_2.fq]\n",
      "[SRR.fq, /Users/fbarlow/Desktop/VSCODE-MAIN/CWBD/computational-workflows-2025/notebooks/day_04/files_dir/SRR.fq]\n",
      "[SRR3_2.fq, /Users/fbarlow/Desktop/VSCODE-MAIN/CWBD/computational-workflows-2025/notebooks/day_04/files_dir/SRR3_2.fq]\n",
      "[fastq3_2.fq, /Users/fbarlow/Desktop/VSCODE-MAIN/CWBD/computational-workflows-2025/notebooks/day_04/files_dir/fastq3_2.fq]\n",
      "[fastq_1.fq, /Users/fbarlow/Desktop/VSCODE-MAIN/CWBD/computational-workflows-2025/notebooks/day_04/files_dir/fastq_1.fq]\n",
      "[fastq2_2.fq, /Users/fbarlow/Desktop/VSCODE-MAIN/CWBD/computational-workflows-2025/notebooks/day_04/files_dir/fastq2_2.fq]\n",
      "[SRR2_2.fq, /Users/fbarlow/Desktop/VSCODE-MAIN/CWBD/computational-workflows-2025/notebooks/day_04/files_dir/SRR2_2.fq]\n",
      "[fastq1_1.fq, /Users/fbarlow/Desktop/VSCODE-MAIN/CWBD/computational-workflows-2025/notebooks/day_04/files_dir/fastq1_1.fq]\n",
      "[SRR1_1.fq, /Users/fbarlow/Desktop/VSCODE-MAIN/CWBD/computational-workflows-2025/notebooks/day_04/files_dir/SRR1_1.fq]\n",
      "[fastq_2.fq, /Users/fbarlow/Desktop/VSCODE-MAIN/CWBD/computational-workflows-2025/notebooks/day_04/files_dir/fastq_2.fq]\n",
      "[fastq2_1.fq, /Users/fbarlow/Desktop/VSCODE-MAIN/CWBD/computational-workflows-2025/notebooks/day_04/files_dir/fastq2_1.fq]\n",
      "[SRR2_1.fq, /Users/fbarlow/Desktop/VSCODE-MAIN/CWBD/computational-workflows-2025/notebooks/day_04/files_dir/SRR2_1.fq]\n",
      "[fastq1_2.fq, /Users/fbarlow/Desktop/VSCODE-MAIN/CWBD/computational-workflows-2025/notebooks/day_04/files_dir/fastq1_2.fq]\n",
      "[SRR1_2.fq, /Users/fbarlow/Desktop/VSCODE-MAIN/CWBD/computational-workflows-2025/notebooks/day_04/files_dir/SRR1_2.fq]\n",
      "[SRR3_1.fq, /Users/fbarlow/Desktop/VSCODE-MAIN/CWBD/computational-workflows-2025/notebooks/day_04/files_dir/SRR3_1.fq]\n",
      "[fastq3_1.fq, /Users/fbarlow/Desktop/VSCODE-MAIN/CWBD/computational-workflows-2025/notebooks/day_04/files_dir/fastq3_1.fq]\n",
      "[fastq4_1.fq, /Users/fbarlow/Desktop/VSCODE-MAIN/CWBD/computational-workflows-2025/notebooks/day_04/files_dir/fastq4_1.fq]\n",
      "[SRR4_1.fq, /Users/fbarlow/Desktop/VSCODE-MAIN/CWBD/computational-workflows-2025/notebooks/day_04/files_dir/SRR4_1.fq]\n",
      "[SRR5_1.fq, /Users/fbarlow/Desktop/VSCODE-MAIN/CWBD/computational-workflows-2025/notebooks/day_04/files_dir/SRR5_1.fq]\n",
      "[fastq5_1.fq, /Users/fbarlow/Desktop/VSCODE-MAIN/CWBD/computational-workflows-2025/notebooks/day_04/files_dir/fastq5_1.fq]\n"
     ]
    }
   ],
   "source": [
    "# Task 7 - Use fromPath to include all fastq files in the \"files_dir\" directory, then use map to return a pair containing the file name and the file path (Hint: include groovy code)\n",
    "!nextflow run basic_channel_operations.nf --step 7"
   ]
  },
  {
   "cell_type": "code",
   "execution_count": 36,
   "metadata": {},
   "outputs": [
    {
     "name": "stdout",
     "output_type": "stream",
     "text": [
      "\n",
      "\u001b[1m\u001b[38;5;232m\u001b[48;5;43m N E X T F L O W \u001b[0;2m  ~  \u001b[mversion 25.04.7\u001b[m\n",
      "\u001b[K\n",
      "Launching\u001b[35m `basic_channel_operations.nf` \u001b[0;2m[\u001b[0;1;36mcheesy_pauling\u001b[0;2m] DSL2 - \u001b[36mrevision: \u001b[0;36m4197f833dc\u001b[m\n",
      "\u001b[K\n",
      "[1, 4]\n",
      "[2, 4]\n",
      "[1, 5]\n",
      "[2, 5]\n",
      "[3, 4]\n",
      "[3, 5]\n",
      "[1, 6]\n",
      "[2, 6]\n",
      "[3, 6]\n"
     ]
    }
   ],
   "source": [
    "# Task 8 - Combine the items from the two channels into a single channel\n",
    "!nextflow run basic_channel_operations.nf --step 8"
   ]
  },
  {
   "cell_type": "code",
   "execution_count": 37,
   "metadata": {},
   "outputs": [
    {
     "name": "stdout",
     "output_type": "stream",
     "text": [
      "\n",
      "\u001b[1m\u001b[38;5;232m\u001b[48;5;43m N E X T F L O W \u001b[0;2m  ~  \u001b[mversion 25.04.7\u001b[m\n",
      "\u001b[K\n",
      "Launching\u001b[35m `basic_channel_operations.nf` \u001b[0;2m[\u001b[0;1;36mangry_fermi\u001b[0;2m] DSL2 - \u001b[36mrevision: \u001b[0;36mdb76c60e76\u001b[m\n",
      "\u001b[K\n",
      "1\n",
      "2\n",
      "3\n",
      "4\n",
      "5\n",
      "6\n"
     ]
    }
   ],
   "source": [
    "# Task 9 - Flatten the list in the channel\n",
    "!nextflow run basic_channel_operations.nf --step 9"
   ]
  },
  {
   "cell_type": "code",
   "execution_count": 38,
   "metadata": {},
   "outputs": [
    {
     "name": "stdout",
     "output_type": "stream",
     "text": [
      "\n",
      "\u001b[1m\u001b[38;5;232m\u001b[48;5;43m N E X T F L O W \u001b[0;2m  ~  \u001b[mversion 25.04.7\u001b[m\n",
      "\u001b[K\n",
      "Launching\u001b[35m `basic_channel_operations.nf` \u001b[0;2m[\u001b[0;1;36mloving_joliot\u001b[0;2m] DSL2 - \u001b[36mrevision: \u001b[0;36meb3df2365b\u001b[m\n",
      "\u001b[K\n",
      "[1, 2, 3]\n"
     ]
    }
   ],
   "source": [
    "# Task 10 - Collect the items of a channel into a list. What kind of channel is the output channel?\n",
    "!nextflow run basic_channel_operations.nf --step 10"
   ]
  },
  {
   "cell_type": "markdown",
   "metadata": {},
   "source": [
    "What kind of channel is the output channel?"
   ]
  },
  {
   "cell_type": "code",
   "execution_count": null,
   "metadata": {},
   "outputs": [],
   "source": [
    "# Task 11 -  From the input channel, create lists where each first item in the list of lists is the first item in the output channel, followed by a list of all the items its paired with\n",
    "!nextflow run basic_channel_operations.nf --step 11"
   ]
  },
  {
   "cell_type": "code",
   "execution_count": null,
   "metadata": {},
   "outputs": [],
   "source": [
    "# Task 12 - Create a channel that joins the input to the output channel. What do you notice?\n",
    "!nextflow run basic_channel_operations.nf --step 12"
   ]
  },
  {
   "cell_type": "markdown",
   "metadata": {},
   "source": [
    "Task 12 - What do you notice compared to Task 11?"
   ]
  },
  {
   "cell_type": "code",
   "execution_count": null,
   "metadata": {},
   "outputs": [],
   "source": [
    "# Task 13 - Split the input channel into two channels, one of all the even numbers and the other of all the odd numbers.\n",
    "#           Write them to stdout including information about which is which\n",
    "!nextflow run basic_channel_operations.nf --step 13 -dump-channels"
   ]
  },
  {
   "cell_type": "code",
   "execution_count": null,
   "metadata": {},
   "outputs": [],
   "source": [
    "# Task 14 - Nextflow has the concept of maps. Write the names in the maps in this channel to a file called \"names.txt\". Each name should be on a new line. \n",
    "#           Store the file in the \"results\" directory under the name \"names.txt\"\n",
    "\n",
    "!nextflow run basic_channel_operations.nf --step 14\n",
    "\n",
    "!cat results/names.txt\n"
   ]
  },
  {
   "cell_type": "markdown",
   "metadata": {},
   "source": [
    "## Now that we learned about Channels and Operators to deal with them, let's focus on Processes that make use of these channels."
   ]
  },
  {
   "cell_type": "markdown",
   "metadata": {},
   "source": [
    "Please answer the questions in $\\texttt{basics\\_processes.nf}$ and run the code here. "
   ]
  },
  {
   "cell_type": "code",
   "execution_count": null,
   "metadata": {},
   "outputs": [],
   "source": [
    "# Task 1 - create a process that says Hello World! (add debug true to the process right after initializing to be sable to print the output to the console)\n",
    "!nextflow run basics_processes.nf --step 1"
   ]
  },
  {
   "cell_type": "code",
   "execution_count": null,
   "metadata": {},
   "outputs": [],
   "source": [
    "# Task 2 - create a process that says Hello World! using Python\n",
    "!nextflow run basics_processes.nf --step 2"
   ]
  },
  {
   "cell_type": "code",
   "execution_count": null,
   "metadata": {},
   "outputs": [],
   "source": [
    "# Task 3 - create a process that reads in the string \"Hello world!\" from a channel and write it to command line\n",
    "!nextflow run basics_processes.nf --step 3"
   ]
  },
  {
   "cell_type": "code",
   "execution_count": null,
   "metadata": {},
   "outputs": [],
   "source": [
    "# Task 4 - create a process that reads in the string \"Hello world!\" from a channel and write it to a file. \n",
    "!nextflow run basics_processes.nf --step 4"
   ]
  },
  {
   "cell_type": "markdown",
   "metadata": {},
   "source": [
    "It might be that you created the file but it doesnt appear in the directory. Use the work folder and the output on the command line to find the file."
   ]
  },
  {
   "cell_type": "code",
   "execution_count": null,
   "metadata": {},
   "outputs": [],
   "source": [
    "# Task 5 - create a process that reads in a string and converts it to uppercase and saves it to a file as output. View the path to the file in the console\n",
    "!nextflow run basics_processes.nf --step 5"
   ]
  },
  {
   "cell_type": "code",
   "execution_count": null,
   "metadata": {},
   "outputs": [],
   "source": [
    "# Task 6 - add another process that reads in the resulting file from UPPERCASE and print the content to the console (debug true).\n",
    "!nextflow run basics_processes.nf --step 6"
   ]
  },
  {
   "cell_type": "markdown",
   "metadata": {},
   "source": [
    "Comared to all the other runs. What changed in the output here and why?"
   ]
  },
  {
   "cell_type": "code",
   "execution_count": null,
   "metadata": {},
   "outputs": [],
   "source": [
    "# Task 7 - based on the paramater \"zip\" (see at the head of the file), create a process that zips the file created in the UPPERCASE process either in \"zip\", \"gzip\" OR \"bzip2\" format.\n",
    "#          Print out the path to the zipped file in the console\n",
    "!nextflow run basics_processes.nf --step 7"
   ]
  },
  {
   "cell_type": "code",
   "execution_count": null,
   "metadata": {},
   "outputs": [],
   "source": [
    "# Task 8 - Create a process that zips the file created in the UPPERCASE process in \"zip\", \"gzip\" AND \"bzip2\" format. Print out the paths to the zipped files in the console\n",
    "!nextflow run basics_processes.nf --step 8"
   ]
  },
  {
   "cell_type": "code",
   "execution_count": null,
   "metadata": {},
   "outputs": [],
   "source": [
    " # Task 9 - Create a process that reads in a list of names and titles from a channel and writes them to a file.\n",
    "#           Store the file in the \"results\" directory under the name \"names.tsv\"\n",
    "!nextflow run basics_processes.nf --step 9"
   ]
  },
  {
   "cell_type": "code",
   "execution_count": null,
   "metadata": {},
   "outputs": [],
   "source": [
    "import pandas as pd\n",
    "\n",
    "df = pd.read_csv(\"results/names.tsv\", sep=\"\\t\")\n",
    "df"
   ]
  },
  {
   "cell_type": "markdown",
   "metadata": {},
   "source": [
    "## Now, let's try some more advanced Operators"
   ]
  },
  {
   "cell_type": "markdown",
   "metadata": {},
   "source": [
    "Please answer the questions in $\\texttt{advanced\\_channel\\_operations.nf}$ and run the code here. "
   ]
  },
  {
   "cell_type": "markdown",
   "metadata": {},
   "source": [
    "To come closer to actual pipelines, we introduce the concept of \"meta-maps\" which you can imagine as dictionaries that are passed with data via channels containing crucial metadata on the sample. \n",
    "\n",
    "Also, we will come back to samplesheets which you should remember from last week."
   ]
  },
  {
   "cell_type": "code",
   "execution_count": null,
   "metadata": {},
   "outputs": [],
   "source": [
    "# Task 1 - Read in the samplesheet.\n",
    "\n",
    "!nextflow run advanced_channel_operations.nf --step 1"
   ]
  },
  {
   "cell_type": "code",
   "execution_count": null,
   "metadata": {},
   "outputs": [],
   "source": [
    "# Task 2 - Read in the samplesheet and create a meta-map with all metadata and another list with the filenames ([[metadata_1 : metadata_1, ...], [fastq_1, fastq_2]]).\n",
    "#          Set the output to a new channel \"in_ch\" and view the channel. YOU WILL NEED TO COPY AND PASTE THIS CODE INTO SOME OF THE FOLLOWING TASKS (sorry for that).\n",
    "\n",
    "!nextflow run advanced_channel_operations.nf --step 2"
   ]
  },
  {
   "cell_type": "code",
   "execution_count": null,
   "metadata": {},
   "outputs": [],
   "source": [
    "# Task 3 - Now we assume that we want to handle different \"strandedness\" values differently. \n",
    "#          Split the channel into the right amount of channels and write them all to stdout so that we can understand which is which.\n",
    "\n",
    "!nextflow run advanced_channel_operations.nf --step 3 -dump-channels"
   ]
  },
  {
   "cell_type": "code",
   "execution_count": null,
   "metadata": {},
   "outputs": [],
   "source": [
    "# Task 4 - Group together all files with the same sample-id and strandedness value.\n",
    "\n",
    "!nextflow run advanced_channel_operations.nf --step 4"
   ]
  },
  {
   "cell_type": "markdown",
   "metadata": {},
   "source": [
    "## It's finally time to link processes and channels with each other"
   ]
  },
  {
   "cell_type": "markdown",
   "metadata": {},
   "source": [
    "Please go to the file $\\texttt{link\\_p\\_c.nf}$"
   ]
  },
  {
   "cell_type": "code",
   "execution_count": null,
   "metadata": {},
   "outputs": [],
   "source": [
    "!nextflow run link_p_c.nf"
   ]
  },
  {
   "cell_type": "markdown",
   "metadata": {},
   "source": [
    "### Give a list with the paths to the chunk files"
   ]
  },
  {
   "cell_type": "code",
   "execution_count": null,
   "metadata": {},
   "outputs": [],
   "source": []
  },
  {
   "cell_type": "markdown",
   "metadata": {},
   "source": [
    "### Why was CONVERTTOUPPER run so often?"
   ]
  },
  {
   "cell_type": "code",
   "execution_count": null,
   "metadata": {},
   "outputs": [],
   "source": []
  },
  {
   "cell_type": "code",
   "execution_count": null,
   "metadata": {},
   "outputs": [],
   "source": []
  },
  {
   "cell_type": "code",
   "execution_count": null,
   "metadata": {},
   "outputs": [],
   "source": []
  },
  {
   "cell_type": "code",
   "execution_count": null,
   "metadata": {},
   "outputs": [],
   "source": []
  },
  {
   "cell_type": "code",
   "execution_count": null,
   "metadata": {},
   "outputs": [],
   "source": []
  },
  {
   "cell_type": "code",
   "execution_count": null,
   "metadata": {},
   "outputs": [],
   "source": []
  },
  {
   "cell_type": "code",
   "execution_count": null,
   "metadata": {},
   "outputs": [],
   "source": []
  },
  {
   "cell_type": "code",
   "execution_count": null,
   "metadata": {},
   "outputs": [],
   "source": []
  },
  {
   "cell_type": "code",
   "execution_count": null,
   "metadata": {},
   "outputs": [],
   "source": []
  },
  {
   "cell_type": "code",
   "execution_count": null,
   "metadata": {},
   "outputs": [],
   "source": []
  },
  {
   "cell_type": "code",
   "execution_count": null,
   "metadata": {},
   "outputs": [],
   "source": []
  },
  {
   "cell_type": "code",
   "execution_count": null,
   "metadata": {},
   "outputs": [],
   "source": []
  }
 ],
 "metadata": {
  "kernelspec": {
   "display_name": "cwbd",
   "language": "python",
   "name": "python3"
  },
  "language_info": {
   "codemirror_mode": {
    "name": "ipython",
    "version": 3
   },
   "file_extension": ".py",
   "mimetype": "text/x-python",
   "name": "python",
   "nbconvert_exporter": "python",
   "pygments_lexer": "ipython3",
   "version": "3.13.7"
  }
 },
 "nbformat": 4,
 "nbformat_minor": 2
}
