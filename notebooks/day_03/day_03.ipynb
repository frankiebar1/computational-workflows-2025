{
 "cells": [
  {
   "cell_type": "markdown",
   "metadata": {},
   "source": [
    "# Differential expression analysis\n"
   ]
  },
  {
   "cell_type": "markdown",
   "metadata": {},
   "source": [
    "You have run the nf-core/rnaseq pipeline and checked the first quality control metrics of your fastq files. This was, however, only the primary analysis and we want to take it further.\n",
    "\n",
    "Due to the computational demand of the pipeline, you only ran the pipeline on two of the 16 samples in the study yesterday. We provide you an essential output of nf-core/rnaseq pipeline in the `data` folder: It contains the combined epression matrix as produced by Salmon, which provides transcript levels for each gene (rows) and each sample (columns).\n"
   ]
  },
  {
   "cell_type": "markdown",
   "metadata": {},
   "source": [
    "We would now like to understand exactly the difference between the expression in our groups of mice. \n",
    "Which pipeline would you use for this?"
   ]
  },
  {
   "cell_type": "markdown",
   "metadata": {
    "vscode": {
     "languageId": "shellscript"
    }
   },
   "source": [
    "I would use differentialabundance (https://nf-co.re/differentialabundance/)"
   ]
  },
  {
   "cell_type": "markdown",
   "metadata": {},
   "source": [
    "Have a close look at the pipeline's \"Usage\" page on the [nf-core docs](nf-co.re). You will need to create a samplesheet (based on the column names in the provided matrix)."
   ]
  },
  {
   "cell_type": "code",
   "execution_count": 14,
   "metadata": {},
   "outputs": [],
   "source": [
    "import pandas as pd\n",
    "import numpy as np\n",
    "\n",
    "df = pd.read_csv(\"data/salmon.merged.gene_counts.tsv\", sep=\"\\t\")\n",
    "samples = df.columns[2:]\n",
    "samplesheet = pd.DataFrame({\n",
    "    'sample': samples,\n",
    "    'Condition': ['_'.join(sample.split('_')[:2]) for sample in samples],\n",
    "    'replicate': [sample.split('_')[-1] for sample in samples]\n",
    "})\n",
    "samplesheet.to_csv(\"data/samplesheet.csv\", index=False)"
   ]
  },
  {
   "cell_type": "markdown",
   "metadata": {},
   "source": [
    "Please paste here the command you used. You may need to inspect the provided expression matrix more closely and create additional files, like a samplesheet (based on the column names) or a contrast file (there happens to also be one in `data/` that you can use)."
   ]
  },
  {
   "cell_type": "code",
   "execution_count": 8,
   "metadata": {
    "vscode": {
     "languageId": "shellscript"
    }
   },
   "outputs": [
    {
     "ename": "SyntaxError",
     "evalue": "invalid syntax (3298209884.py, line 1)",
     "output_type": "error",
     "traceback": [
      "  \u001b[36mCell\u001b[39m\u001b[36m \u001b[39m\u001b[32mIn[8]\u001b[39m\u001b[32m, line 1\u001b[39m\n\u001b[31m    \u001b[39m\u001b[31mnextflow run nf-core/differentialabundance \\\u001b[39m\n             ^\n\u001b[31mSyntaxError\u001b[39m\u001b[31m:\u001b[39m invalid syntax\n"
     ]
    }
   ],
   "source": [
    " nextflow run nf-core/differentialabundance \\\n",
    "     --input notebooks/day_03/data/samplesheet.csv \\\n",
    "     --contrasts notebooks/day_03/data/contrasts.csv \\\n",
    "     --matrix notebooks/day_03/data/salmon.merged.gene_counts.tsv \\\n",
    "     --outdir notebooks/day_03/output  \\\n",
    "     -profile rnaseq,docker \\\n",
    "     -r 1.5.0 \\\n",
    "     --max_memory \"4GB\""
   ]
  },
  {
   "cell_type": "markdown",
   "metadata": {},
   "source": [
    "Explain all the parameters you set and why you set them in this way. If you used or created additional files as input, explain what they are used for."
   ]
  },
  {
   "cell_type": "markdown",
   "metadata": {},
   "source": [
    "    input is the samplesheet I created earlier\n",
    "    contrasts was given\n",
    "    matrix was given\n",
    "    outdir chosen arbitrarily\n",
    "    profiles set as docker and rnaseq because of the data we're using (not microarray)"
   ]
  },
  {
   "cell_type": "markdown",
   "metadata": {},
   "source": [
    "What were the outputs of the pipeline?"
   ]
  },
  {
   "cell_type": "markdown",
   "metadata": {},
   "source": [
    "The outputs include folders named other, pipeline_info, plots, report, shinyngs_app, tables. The most important being plots and tables."
   ]
  },
  {
   "cell_type": "code",
   "execution_count": 2,
   "metadata": {},
   "outputs": [],
   "source": [
    "#!TODO"
   ]
  },
  {
   "cell_type": "markdown",
   "metadata": {},
   "source": [
    "Would you exclude any samples? If yes, which and why?"
   ]
  },
  {
   "cell_type": "markdown",
   "metadata": {},
   "source": [
    "SNI sal 2 and SNI sal 4 are very separated from the others when looking at the pca plots (visible in 2d but very clear in the 3d version). This could skew the whole analysis and maybe they should be treated as outliers, removing them could lead to a more accurate analysis on the rest of the samples."
   ]
  },
  {
   "cell_type": "markdown",
   "metadata": {},
   "source": [
    "How many genes were differentially expressed in each contrast? Does this confirm what the paper mentions?"
   ]
  },
  {
   "cell_type": "markdown",
   "metadata": {},
   "source": [
    "SNI_oxy versus SNI_Sal: 1 gene is up regulated, 17 are down regulated\n",
    "\n",
    "Sham_oxy versus Sham_Sal: 7 genes are up regulated, none are down regulated"
   ]
  },
  {
   "cell_type": "markdown",
   "metadata": {},
   "source": [
    "The paper mentions differentially expressed genes in three brain regions : the NAc, mPFC and VTA. Briefly explain what these 3 regions are."
   ]
  },
  {
   "cell_type": "markdown",
   "metadata": {},
   "source": [
    "NAc refers to Nucleus Accumbens, a subcortical brain structure associated with reward, pleasure and addiction. It also has a role in pain processing.\n",
    "\n",
    "mPFC is a brain region important for social cognition, self-referential processing, emotional regulation and stress-sensitive behaviors. It also plays a role in stress response modulation. \n",
    "\n",
    "VTA refers to the Ventral Tegmental Area, it is the origin of dopaminergic cell bodies of dopamine pathways, it also plays a role in reward cognition."
   ]
  },
  {
   "cell_type": "markdown",
   "metadata": {},
   "source": [
    "Is there anyway from the paper and the material and methods for us to know which genes are included in these regions?"
   ]
  },
  {
   "cell_type": "markdown",
   "metadata": {},
   "source": [
    "The authors attach a table in which we can look up genes and their position"
   ]
  },
  {
   "cell_type": "markdown",
   "metadata": {},
   "source": [
    "Once you have your list of differentially expressed genes, do you think just communicating those to the biologists would be sufficient? What does the publication state?"
   ]
  },
  {
   "cell_type": "markdown",
   "metadata": {},
   "source": [
    "No it is not sufficient, the genes must be interpreted together. The publication states we should look at pathways in which the DE genes are found, they also compare overlap across brain regions and conditions. "
   ]
  },
  {
   "cell_type": "markdown",
   "metadata": {},
   "source": [
    "Please reproduce the Venn Diagram from Figure 3, not taking into account the brain regions but just the contrasts mentionned."
   ]
  },
  {
   "cell_type": "code",
   "execution_count": null,
   "metadata": {},
   "outputs": [],
   "source": [
    "files = {\n",
    "    \"SNI_oxy_vs_Sham_Sal\": \"output/tables/differential/condition_treated_baseline.deseq2.results_filtered.tsv\",\n",
    "    \"Sham_oxy_vs_Sham_Sal\": \"output/tables/differential/condition_control_treated_test.deseq2.results_filtered.tsv\",\n",
    "    \"SNI_Sal_vs_Sham_Sal\": \"output/tables/differential/condition_control_untreated.deseq2.results_filtered.tsv\"\n",
    "}\n",
    "\n",
    "#TODO\n"
   ]
  }
 ],
 "metadata": {
  "kernelspec": {
   "display_name": "cwbd",
   "language": "python",
   "name": "python3"
  },
  "language_info": {
   "codemirror_mode": {
    "name": "ipython",
    "version": 3
   },
   "file_extension": ".py",
   "mimetype": "text/x-python",
   "name": "python",
   "nbconvert_exporter": "python",
   "pygments_lexer": "ipython3",
   "version": "3.13.7"
  }
 },
 "nbformat": 4,
 "nbformat_minor": 2
}
